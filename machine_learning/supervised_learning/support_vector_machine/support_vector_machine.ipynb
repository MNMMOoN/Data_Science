{
  "nbformat": 4,
  "nbformat_minor": 0,
  "metadata": {
    "colab": {
      "provenance": []
    },
    "kernelspec": {
      "name": "python3",
      "display_name": "Python 3"
    },
    "language_info": {
      "name": "python"
    }
  },
  "cells": [
    {
      "cell_type": "markdown",
      "source": [
        "<div style=\"text-align: center;\">\n",
        "    <h1>Classification Problems: SVM</h1>\n",
        "    <h3>Mohammad Nourbakhsh Marvast</h3>\n",
        "</div>"
      ],
      "metadata": {
        "id": "seLBz94qpEjs"
      }
    },
    {
      "cell_type": "code",
      "execution_count": 6,
      "metadata": {
        "id": "nXxiPlpQZa99"
      },
      "outputs": [],
      "source": [
        "import numpy as np;\n",
        "import matplotlib.pyplot as plt;\n",
        "import pandas as pd;\n",
        "from sklearn.model_selection import train_test_split\n",
        "\n",
        "import seaborn as sns\n",
        "from sklearn.metrics import confusion_matrix"
      ]
    },
    {
      "cell_type": "markdown",
      "source": [
        "#SVM Class using gradient descent:"
      ],
      "metadata": {
        "id": "iglZNkE5oe9I"
      }
    },
    {
      "cell_type": "code",
      "source": [
        "class SVM:\n",
        "  def __init__(self, learning_rate= 0.001, lambda_= 0.01, num_epochs= 1000):\n",
        "    self.learning_rate = learning_rate\n",
        "    self.lambda_ = lambda_\n",
        "    self.num_epochs = num_epochs\n",
        "    self.theta = None\n",
        "    self.theta0 = None\n",
        "\n",
        "  def fit(self, X_train, y_train):\n",
        "    y_train = np.where(y_train <= 0, -1, 1)  #y_train \\in \\{-1,+1\\}\n",
        "\n",
        "    n, dim = X_train.shape\n",
        "    self.theta = np.zeros(dim)\n",
        "    self.theta0 = 0\n",
        "    #self.learning_rate = self.learning_rate/n\n",
        "\n",
        "    for _ in range(self.num_epochs):\n",
        "      for i in range(n):\n",
        "\n",
        "        y_i = np.dot(X_train[i], self.theta) + self.theta0\n",
        "        update= self.learning_rate if y_train[i] * y_i < 1 else 0\n",
        "\n",
        "        self.theta -= 2 * self.learning_rate * self.lambda_ * self.theta - update * y_train[i] * X_train[i]\n",
        "        self.theta0 += update * y_train[i]\n",
        "\n",
        "    #print(\"theta: \", self.theta)\n",
        "    #print(\"theta0: \", self.theta0)\n",
        "\n",
        "  def predict(self, X_test):\n",
        "    linear_output = np.matmul(X_test, self.theta) + self.theta0\n",
        "    y_pred = np.sign(linear_output)\n",
        "    #print(y_pred)\n",
        "    return y_pred\n"
      ],
      "metadata": {
        "id": "DHQ-1Vg4xYIP"
      },
      "execution_count": 177,
      "outputs": []
    },
    {
      "cell_type": "code",
      "source": [
        "# Testing\n",
        "if __name__ == \"__main__\":\n",
        "    # Imports\n",
        "    from sklearn.model_selection import train_test_split\n",
        "    from sklearn import datasets\n",
        "    import matplotlib.pyplot as plt\n",
        "\n",
        "    X, y = datasets.make_blobs(\n",
        "        n_samples=50, n_features=2, centers=2, cluster_std=1.05, random_state=40\n",
        "    )\n",
        "    y = np.where(y == 0, -1, 1)\n",
        "\n",
        "    X_train, X_test, y_train, y_test = train_test_split(\n",
        "        X, y, test_size=0.2, random_state=123\n",
        "    )\n",
        "\n",
        "    clf = SVM()\n",
        "    clf.fit(X_train, y_train)\n",
        "    predictions = clf.predict(X_test)\n",
        "\n",
        "    def accuracy(y_true, y_pred):\n",
        "        accuracy = np.sum(y_true == y_pred) / len(y_true)\n",
        "        return accuracy\n",
        "\n",
        "    print(\"SVM classification accuracy\", accuracy(y_test, predictions))\n",
        "\n",
        "    def visualize_svm():\n",
        "        def get_hyperplane_value(x, w, b, offset):\n",
        "            return (-w[0] * x - b + offset) / w[1]\n",
        "\n",
        "        fig = plt.figure()\n",
        "        ax = fig.add_subplot(1, 1, 1)\n",
        "        plt.scatter(X[:, 0], X[:, 1], marker=\"o\", c=y)\n",
        "\n",
        "        x0_1 = np.amin(X[:, 0])\n",
        "        x0_2 = np.amax(X[:, 0])\n",
        "\n",
        "        x1_1 = get_hyperplane_value(x0_1, clf.theta, clf.theta0, 0)\n",
        "        x1_2 = get_hyperplane_value(x0_2, clf.theta, clf.theta0, 0)\n",
        "\n",
        "        x1_1_m = get_hyperplane_value(x0_1, clf.theta, clf.theta0, -1)\n",
        "        x1_2_m = get_hyperplane_value(x0_2, clf.theta, clf.theta0, -1)\n",
        "\n",
        "        x1_1_p = get_hyperplane_value(x0_1, clf.theta, clf.theta0, 1)\n",
        "        x1_2_p = get_hyperplane_value(x0_2, clf.theta, clf.theta0, 1)\n",
        "\n",
        "        ax.plot([x0_1, x0_2], [x1_1, x1_2], \"g--\")\n",
        "        ax.plot([x0_1, x0_2], [x1_1_m, x1_2_m], \"k\")\n",
        "        ax.plot([x0_1, x0_2], [x1_1_p, x1_2_p], \"k\")\n",
        "\n",
        "        x1_min = np.amin(X[:, 1])\n",
        "        x1_max = np.amax(X[:, 1])\n",
        "        ax.set_ylim([x1_min - 3, x1_max + 3])\n",
        "\n",
        "        plt.show()\n",
        "\n",
        "    visualize_svm()"
      ],
      "metadata": {
        "colab": {
          "base_uri": "https://localhost:8080/",
          "height": 447
        },
        "id": "v73xym69O8YH",
        "outputId": "c5b20d72-7325-4538-a4ef-7922faca8ff2"
      },
      "execution_count": 178,
      "outputs": [
        {
          "output_type": "stream",
          "name": "stdout",
          "text": [
            "SVM classification accuracy 1.0\n"
          ]
        },
        {
          "output_type": "display_data",
          "data": {
            "text/plain": [
              "<Figure size 640x480 with 1 Axes>"
            ],
            "image/png": "[encoded data removed]"
          },
          "metadata": {}
        }
      ]
    },
    {
      "cell_type": "markdown",
      "source": [
        "## Cancer Dataset:"
      ],
      "metadata": {
        "id": "HiGikiTOotx5"
      }
    },
    {
      "cell_type": "code",
      "source": [
        "from sklearn.datasets import load_breast_cancer"
      ],
      "metadata": {
        "id": "3QbTypiZDk3L"
      },
      "execution_count": 179,
      "outputs": []
    },
    {
      "cell_type": "code",
      "source": [
        "# Load dataset\n",
        "data_frame = load_breast_cancer()\n",
        "data = data_frame.data\n",
        "target = data_frame.target"
      ],
      "metadata": {
        "id": "QiGaApkpDpnr"
      },
      "execution_count": 180,
      "outputs": []
    },
    {
      "cell_type": "code",
      "source": [
        "X_train, X_test, y_train, y_test = train_test_split(data, target, test_size=0.2, random_state=42)\n",
        "\n",
        "# Standardize features\n",
        "from sklearn.preprocessing import StandardScaler\n",
        "scaler = StandardScaler()\n",
        "X_train = scaler.fit_transform(X_train)\n",
        "X_test = scaler.transform(X_test)"
      ],
      "metadata": {
        "id": "gEnr5Ol_Dr8r"
      },
      "execution_count": 181,
      "outputs": []
    },
    {
      "cell_type": "code",
      "source": [
        "clf = SVM()\n",
        "clf.fit(X_train, y_train)\n",
        "y_pred = clf.predict(X_test)"
      ],
      "metadata": {
        "id": "YLdn8iSqDtsU"
      },
      "execution_count": 182,
      "outputs": []
    },
    {
      "cell_type": "code",
      "source": [
        "cmt = confusion_matrix(np.where(y_test <=0,-1,1), y_pred)\n",
        "acc = np.trace(cmt)/np.sum(np.sum(cmt))\n",
        "print(\"SVM accuracy: \", acc)\n",
        "plt.figure()\n",
        "sns.heatmap(cmt, annot=True, fmt=\"d\")\n",
        "plt.title(\"Confusion Matrix\"); plt.xlabel(\"predicted\");\n",
        "plt.ylabel(\"actual\")\n",
        "plt.show()"
      ],
      "metadata": {
        "colab": {
          "base_uri": "https://localhost:8080/",
          "height": 489
        },
        "id": "hau4pU4UELRZ",
        "outputId": "2efc4715-5995-4bb0-c90f-6197a101a45d"
      },
      "execution_count": 183,
      "outputs": [
        {
          "output_type": "stream",
          "name": "stdout",
          "text": [
            "SVM accuracy:  0.9824561403508771\n"
          ]
        },
        {
          "output_type": "display_data",
          "data": {
            "text/plain": [
              "<Figure size 640x480 with 2 Axes>"
            ],
            "image/png": "[encoded data removed]"
          },
          "metadata": {}
        }
      ]
    },
    {
      "cell_type": "markdown",
      "source": [
        "# Kernel SVM Class using Optimization:"
      ],
      "metadata": {
        "id": "VZ0-xh8wo6fZ"
      }
    },
    {
      "cell_type": "code",
      "source": [
        "import cvxopt\n",
        "import numpy as np\n",
        "from sklearn.svm import SVC\n",
        "from sklearn.metrics import accuracy_score\n",
        "from sklearn.model_selection import train_test_split"
      ],
      "metadata": {
        "id": "v8vukgqOpRth"
      },
      "execution_count": 184,
      "outputs": []
    },
    {
      "cell_type": "code",
      "source": [
        "def rbf_kernel(gamma, **kwargs):\n",
        "  def f(x1, x2):\n",
        "    distance = np.linalg.norm(x1 - x2) ** 2\n",
        "    return np.exp(-gamma * distance)\n",
        "  return f"
      ],
      "metadata": {
        "id": "hN2GSepy0yZg"
      },
      "execution_count": 185,
      "outputs": []
    },
    {
      "cell_type": "code",
      "source": [
        "class SupportVectorMachine(object):\n",
        "  def __init__(self, C=1, kernel=rbf_kernel, power=4, gamma=None):\n",
        "    self.C = C\n",
        "    self.kernel = kernel\n",
        "    self.power = power\n",
        "    self.gamma = gamma\n",
        "    self.lagr_multipliers = None\n",
        "    self.support_vectors = None\n",
        "    self.support_vector_labels = None\n",
        "    self.intercept = None\n",
        "\n",
        "  def fit(self, X, y):\n",
        "    n_samples, n_features = np.shape(X)\n",
        "\n",
        "    #y = np.where(y <= 0, -1, 1)\n",
        "\n",
        "    if not self.gamma:\n",
        "      self.gamma = 1 / n_features\n",
        "\n",
        "    self.kernel = self.kernel(gamma=self.gamma)\n",
        "\n",
        "    kernel_matrix = np.zeros((n_samples, n_samples))\n",
        "\n",
        "    for i in range(n_samples):\n",
        "      for j in range(n_samples):\n",
        "        kernel_matrix[i, j] = self.kernel(X[i],X[j])\n",
        "\n",
        "    P = cvxopt.matrix(np.outer(y, y) * kernel_matrix, tc='d')\n",
        "    q = cvxopt.matrix(np.ones(n_samples) * -1)\n",
        "    A = cvxopt.matrix(y, (1, n_samples), tc='d')\n",
        "    b = cvxopt.matrix(0, tc='d')\n",
        "\n",
        "    if not self.C: #if its empty\n",
        "      G = cvxopt.matrix(np.identity(n_samples) * -1)\n",
        "      h = cvxopt.matrix(np.zeros(n_samples))\n",
        "\n",
        "    else:\n",
        "      G_max = np.identity(n_samples) * -1\n",
        "      G_min = np.identity(n_samples)\n",
        "      G = cvxopt.matrix(np.vstack((G_max, G_min)))\n",
        "      h_max = cvxopt.matrix(np.zeros(n_samples))\n",
        "      h_min = cvxopt.matrix(np.ones(n_samples) * self.C)\n",
        "      h = cvxopt.matrix(np.vstack((h_max, h_min)))\n",
        "\n",
        "    minimization = cvxopt.solvers.qp(P, q, G, h, A, b)\n",
        "\n",
        "    lagr_mult = np.ravel(minimization['x'])\n",
        "\n",
        "    # Get indexes of non-zero lagr. multipiers\n",
        "    idx = lagr_mult > 1e-11\n",
        "\n",
        "    # Get the corresponding lagr. multipliers\n",
        "    self.lagr_multipliers = lagr_mult[idx]\n",
        "\n",
        "    # Get the samples that will act as support vectors\n",
        "    self.support_vectors = X[idx]\n",
        "\n",
        "    # Get the corresponding labels\n",
        "    self.support_vector_labels = y[idx]\n",
        "\n",
        "    self.intercept = self.support_vector_labels[0]\n",
        "\n",
        "    for i in range(len(self.lagr_multipliers)):\n",
        "      self.intercept -= self.lagr_multipliers[i] * self.support_vector_labels[i] * self.kernel(self.support_vectors[i], self.support_vectors[0])\n",
        "\n",
        "  def predict(self, X):\n",
        "    y_pred = []\n",
        "    for sample in X:\n",
        "      prediction = 0\n",
        "      # Determine the label of the sample by the support vectors\n",
        "      for i in range(len(self.lagr_multipliers)):\n",
        "        prediction += self.lagr_multipliers[i] * self.support_vector_labels[i] * self.kernel(self.support_vectors[i], sample)\n",
        "\n",
        "      prediction += self.intercept\n",
        "      y_pred.append(np.sign(prediction))\n",
        "    return np.array(y_pred)\n"
      ],
      "metadata": {
        "id": "VO8asy9u1PE5"
      },
      "execution_count": 247,
      "outputs": []
    },
    {
      "cell_type": "markdown",
      "source": [
        "## Cancer Dataset:"
      ],
      "metadata": {
        "id": "tP-IngQ6IIb2"
      }
    },
    {
      "cell_type": "code",
      "source": [
        "from sklearn.datasets import load_breast_cancer"
      ],
      "metadata": {
        "id": "NTbjJhAPIIb8"
      },
      "execution_count": 187,
      "outputs": []
    },
    {
      "cell_type": "code",
      "source": [
        "def linear_kernel(gamma, **kwargs):\n",
        "  def f(x1,x2):\n",
        "    return np.dot(x1,x2)\n",
        "  return f"
      ],
      "metadata": {
        "id": "FEqE0SYTNtdY"
      },
      "execution_count": 242,
      "outputs": []
    },
    {
      "cell_type": "code",
      "source": [
        "# Load dataset\n",
        "data_frame = load_breast_cancer()\n",
        "data = data_frame.data\n",
        "target = data_frame.target"
      ],
      "metadata": {
        "id": "rQGVheVnIIb9"
      },
      "execution_count": 243,
      "outputs": []
    },
    {
      "cell_type": "code",
      "source": [
        "X_train, X_test, y_train, y_test = train_test_split(data, target, test_size=0.2, random_state=42)\n",
        "\n",
        "# Standardize features\n",
        "from sklearn.preprocessing import StandardScaler\n",
        "scaler = StandardScaler()\n",
        "X_train = scaler.fit_transform(X_train)\n",
        "X_test = scaler.transform(X_test)\n",
        "\n",
        "y_train = np.where(y_train <= 0, -1, 1)\n",
        "y_test = np.where(y_test <= 0, -1, 1)"
      ],
      "metadata": {
        "id": "x8M9tPcmIIb9"
      },
      "execution_count": 248,
      "outputs": []
    },
    {
      "cell_type": "code",
      "source": [
        "clf = SupportVectorMachine()\n",
        "clf.fit(X_train, y_train)\n",
        "y_pred = clf.predict(X_test)"
      ],
      "metadata": {
        "colab": {
          "base_uri": "https://localhost:8080/"
        },
        "id": "B0xvo33ZIIb-",
        "outputId": "cd50f709-c19c-4a8b-ddad-fd8f5b81d6bf"
      },
      "execution_count": 251,
      "outputs": [
        {
          "output_type": "stream",
          "name": "stdout",
          "text": [
            "     pcost       dcost       gap    pres   dres\n",
            " 0: -5.4164e+01 -8.5860e+02  4e+03  2e+00  2e-15\n",
            " 1: -3.5302e+01 -4.6314e+02  6e+02  2e-01  1e-15\n",
            " 2: -3.5170e+01 -1.0836e+02  8e+01  2e-02  2e-15\n",
            " 3: -4.3718e+01 -6.8508e+01  3e+01  5e-03  1e-15\n",
            " 4: -4.7943e+01 -5.7659e+01  1e+01  1e-03  1e-15\n",
            " 5: -5.0107e+01 -5.2839e+01  3e+00  1e-04  1e-15\n",
            " 6: -5.0970e+01 -5.1359e+01  4e-01  1e-05  1e-15\n",
            " 7: -5.1121e+01 -5.1132e+01  1e-02  2e-07  1e-15\n",
            " 8: -5.1125e+01 -5.1125e+01  2e-04  3e-09  1e-15\n",
            " 9: -5.1125e+01 -5.1125e+01  3e-06  3e-11  1e-15\n",
            "Optimal solution found.\n"
          ]
        }
      ]
    },
    {
      "cell_type": "code",
      "source": [
        "cmt = confusion_matrix(y_test, y_pred)\n",
        "acc = np.trace(cmt)/np.sum(np.sum(cmt))\n",
        "print(\"SVM accuracy: \", acc)\n",
        "plt.figure()\n",
        "sns.heatmap(cmt, annot=True, fmt=\"d\")\n",
        "plt.title(\"Confusion Matrix\"); plt.xlabel(\"predicted\");\n",
        "plt.ylabel(\"actual\")\n",
        "plt.show()"
      ],
      "metadata": {
        "colab": {
          "base_uri": "https://localhost:8080/",
          "height": 489
        },
        "outputId": "e8998772-e21c-4a85-f57c-38ac7683e2bf",
        "id": "WbDrkoU2IIb_"
      },
      "execution_count": 252,
      "outputs": [
        {
          "output_type": "stream",
          "name": "stdout",
          "text": [
            "SVM accuracy:  0.9736842105263158\n"
          ]
        },
        {
          "output_type": "display_data",
          "data": {
            "text/plain": [
              "<Figure size 640x480 with 2 Axes>"
            ],
            "image/png": "[encoded data removed]"
          },
          "metadata": {}
        }
      ]
    },
    {
      "cell_type": "markdown",
      "source": [
        "## Iris Dataset:"
      ],
      "metadata": {
        "id": "FE5gXOx6JGj2"
      }
    },
    {
      "cell_type": "code",
      "source": [
        "from sklearn.datasets import load_iris"
      ],
      "metadata": {
        "id": "vCp6CtRIJLPn"
      },
      "execution_count": 253,
      "outputs": []
    },
    {
      "cell_type": "code",
      "source": [
        "data_frame = load_iris()\n",
        "data = data_frame.data\n",
        "target = data_frame.target"
      ],
      "metadata": {
        "id": "OO6HcqkwJPnQ"
      },
      "execution_count": 255,
      "outputs": []
    },
    {
      "cell_type": "code",
      "source": [
        "X_train, X_test, y_train, y_test = train_test_split(data, target, test_size=0.2, random_state=42)\n",
        "\n",
        "y_train0 = np.where(y_train == 0, -1, 1)\n",
        "y_test0 = np.where(y_test == 0, -1, 1)\n",
        "y_train1 = np.where(y_train == 1, -1, 1)\n",
        "y_test1 = np.where(y_test == 1, -1, 1)\n",
        "y_train2 = np.where(y_train == 2, -1, 1)\n",
        "y_test2 = np.where(y_test == 2, -1, 1)\n",
        "\n",
        "# Standardize features\n",
        "from sklearn.preprocessing import StandardScaler\n",
        "scaler = StandardScaler()\n",
        "X_train = scaler.fit_transform(X_train)\n",
        "X_test = scaler.transform(X_test)"
      ],
      "metadata": {
        "id": "1bnBzY2tJVjw"
      },
      "execution_count": 258,
      "outputs": []
    },
    {
      "cell_type": "code",
      "source": [
        "clf = SupportVectorMachine(kernel=rbf_kernel, gamma = 1)\n",
        "clf.fit(X_train, y_train0)\n",
        "y_pred0 = clf.predict(X_test)\n",
        "\n",
        "\n",
        "clf = SupportVectorMachine(kernel=rbf_kernel, gamma = 1)\n",
        "clf.fit(X_train, y_train1)\n",
        "y_pred1 = clf.predict(X_test)\n",
        "\n",
        "\n",
        "clf = SupportVectorMachine(kernel=rbf_kernel, gamma = 1)\n",
        "clf.fit(X_train, y_train2)\n",
        "y_pred2 = clf.predict(X_test)\n"
      ],
      "metadata": {
        "colab": {
          "base_uri": "https://localhost:8080/"
        },
        "id": "VvHp5axMJX4w",
        "outputId": "259ed700-920a-4d67-84e5-e2f22af8ac27"
      },
      "execution_count": 259,
      "outputs": [
        {
          "output_type": "stream",
          "name": "stdout",
          "text": [
            "     pcost       dcost       gap    pres   dres\n",
            " 0: -4.1021e+00 -1.4991e+02  5e+02  1e+00  4e-16\n",
            " 1: -1.6334e+00 -5.9611e+01  6e+01  6e-16  5e-16\n",
            " 2: -5.1662e+00 -1.1099e+01  6e+00  5e-16  6e-16\n",
            " 3: -5.7834e+00 -7.4119e+00  2e+00  5e-16  3e-16\n",
            " 4: -6.1024e+00 -6.4665e+00  4e-01  4e-16  3e-16\n",
            " 5: -6.1865e+00 -6.2791e+00  9e-02  2e-16  3e-16\n",
            " 6: -6.2113e+00 -6.2312e+00  2e-02  4e-16  3e-16\n",
            " 7: -6.2181e+00 -6.2187e+00  6e-04  7e-16  3e-16\n",
            " 8: -6.2184e+00 -6.2184e+00  1e-05  4e-16  4e-16\n",
            " 9: -6.2184e+00 -6.2184e+00  1e-07  4e-16  3e-16\n",
            "Optimal solution found.\n",
            "     pcost       dcost       gap    pres   dres\n",
            " 0: -1.5446e+01 -1.9416e+02  7e+02  2e+00  6e-16\n",
            " 1: -1.1038e+01 -9.6720e+01  9e+01  1e-15  6e-16\n",
            " 2: -1.5921e+01 -2.9959e+01  1e+01  9e-16  6e-16\n",
            " 3: -1.8257e+01 -2.2121e+01  4e+00  4e-16  6e-16\n",
            " 4: -1.8882e+01 -1.9888e+01  1e+00  4e-16  5e-16\n",
            " 5: -1.9120e+01 -1.9337e+01  2e-01  2e-16  6e-16\n",
            " 6: -1.9179e+01 -1.9201e+01  2e-02  1e-15  5e-16\n",
            " 7: -1.9187e+01 -1.9187e+01  4e-04  4e-16  6e-16\n",
            " 8: -1.9187e+01 -1.9187e+01  8e-06  4e-16  5e-16\n",
            "Optimal solution found.\n",
            "     pcost       dcost       gap    pres   dres\n",
            " 0: -1.6432e+01 -1.9857e+02  7e+02  2e+00  7e-16\n",
            " 1: -1.1914e+01 -1.0062e+02  9e+01  3e-16  6e-16\n",
            " 2: -1.6698e+01 -2.9758e+01  1e+01  1e-16  5e-16\n",
            " 3: -1.8735e+01 -2.3328e+01  5e+00  6e-16  5e-16\n",
            " 4: -1.9501e+01 -2.0566e+01  1e+00  8e-16  5e-16\n",
            " 5: -1.9781e+01 -1.9981e+01  2e-01  7e-16  6e-16\n",
            " 6: -1.9844e+01 -1.9853e+01  9e-03  2e-16  5e-16\n",
            " 7: -1.9847e+01 -1.9848e+01  4e-04  3e-16  6e-16\n",
            " 8: -1.9848e+01 -1.9848e+01  7e-06  1e-15  6e-16\n",
            "Optimal solution found.\n"
          ]
        }
      ]
    },
    {
      "cell_type": "code",
      "source": [
        "y_pred = np.zeros(len(y_pred0))\n",
        "y_pred[y_pred0 == -1] = 0\n",
        "y_pred[y_pred1 == -1] = 1\n",
        "y_pred[y_pred2 == -1] = 2"
      ],
      "metadata": {
        "id": "72R59bOfJi_k"
      },
      "execution_count": 262,
      "outputs": []
    },
    {
      "cell_type": "code",
      "source": [
        "cmt = confusion_matrix(y_test, y_pred)\n",
        "acc = np.trace(cmt)/np.sum(np.sum(cmt))\n",
        "print(\"percepton accuracy: \", acc)\n",
        "\n",
        "plt.figure()\n",
        "sns.heatmap(cmt, annot=True, fmt=\"d\")\n",
        "plt.title(\"Confusion Matrix\"); plt.xlabel(\"predicted\");\n",
        "plt.ylabel(\"actual\")\n",
        "plt.show()"
      ],
      "metadata": {
        "colab": {
          "base_uri": "https://localhost:8080/",
          "height": 489
        },
        "id": "q4STGtW5LnJC",
        "outputId": "cc8ce2f4-6856-431c-e96b-2e12bffb6b06"
      },
      "execution_count": 263,
      "outputs": [
        {
          "output_type": "stream",
          "name": "stdout",
          "text": [
            "percepton accuracy:  1.0\n"
          ]
        },
        {
          "output_type": "display_data",
          "data": {
            "text/plain": [
              "<Figure size 640x480 with 2 Axes>"
            ],
            "image/png": "[encoded data removed]"
          },
          "metadata": {}
        }
      ]
    },
    {
      "cell_type": "code",
      "source": [
        "from sklearn.datasets import load_wine"
      ],
      "metadata": {
        "id": "RAf9ylYufNjE"
      },
      "execution_count": null,
      "outputs": []
    },
    {
      "cell_type": "code",
      "source": [
        "# Load dataset\n",
        "data_frame = load_wine()\n",
        "data = data_frame.data\n",
        "target = data_frame.target"
      ],
      "metadata": {
        "id": "S1JKBTmBK5VP"
      },
      "execution_count": null,
      "outputs": []
    },
    {
      "cell_type": "code",
      "source": [
        "X_train, X_test, y_train, y_test = train_test_split(data, target, test_size=0.2, random_state=42)\n",
        "\n",
        "y_train0 = np.where(y_train == 0, 0, 1)\n",
        "y_train1 = np.where(y_train == 1, 0, 1)\n",
        "y_train2 = np.where(y_train == 2, 0, 1)\n",
        "\n",
        "# Standardize features\n",
        "from sklearn.preprocessing import StandardScaler\n",
        "scaler = StandardScaler()\n",
        "X_train = scaler.fit_transform(X_train)\n",
        "X_test = scaler.transform(X_test)"
      ],
      "metadata": {
        "id": "jMu06mToNOBk"
      },
      "execution_count": null,
      "outputs": []
    },
    {
      "cell_type": "code",
      "source": [
        "clf = perceptron(num_epochs=3, eta = 0.001)\n",
        "clf.fit(X_train, y_train0)\n",
        "y_pred0 = clf.predict(X_test)\n",
        "\n",
        "clf.fit(X_train, y_train1)\n",
        "y_pred1 = clf.predict(X_test)\n",
        "\n",
        "clf.fit(X_train, y_train2)\n",
        "y_pred2 = clf.predict(X_test)"
      ],
      "metadata": {
        "id": "J3XXWrY1NQl0"
      },
      "execution_count": null,
      "outputs": []
    },
    {
      "cell_type": "code",
      "source": [
        "y_pred = np.zeros(len(y_pred0))\n",
        "y_pred[y_pred0 == 0] = 0\n",
        "y_pred[y_pred1 == 0] = 1\n",
        "y_pred[y_pred2 == 0] = 2"
      ],
      "metadata": {
        "id": "xsYqHrzpOLak"
      },
      "execution_count": null,
      "outputs": []
    },
    {
      "cell_type": "code",
      "source": [
        "cmt = confusion_matrix(y_test, y_pred)\n",
        "acc = np.trace(cmt)/np.sum(np.sum(cmt))\n",
        "print(\"percepton accuracy: \", acc)"
      ],
      "metadata": {
        "colab": {
          "base_uri": "https://localhost:8080/"
        },
        "id": "tLBL0e3FPq7c",
        "outputId": "d2b0a811-5af5-413f-d308-3fc5ab4b9bce"
      },
      "execution_count": null,
      "outputs": [
        {
          "output_type": "stream",
          "name": "stdout",
          "text": [
            "percepton accuracy:  1.0\n"
          ]
        }
      ]
    },
    {
      "cell_type": "code",
      "source": [
        "plt.figure()\n",
        "sns.heatmap(cmt, annot=True, fmt=\"d\")\n",
        "plt.title(\"Confusion Matrix\"); plt.xlabel(\"predicted\");\n",
        "plt.ylabel(\"actual\")\n",
        "plt.show()"
      ],
      "metadata": {
        "colab": {
          "base_uri": "https://localhost:8080/"
        },
        "id": "JrvFZaoJQoQ1",
        "outputId": "0c2459f1-d629-4b29-fe4f-179a4cbc7f6d"
      },
      "execution_count": null,
      "outputs": [
        {
          "output_type": "display_data",
          "data": {
            "text/plain": [
              "<Figure size 640x480 with 2 Axes>"
            ],
            "image/png": "[encoded data removed]"
          },
          "metadata": {}
        }
      ]
    },
    {
      "cell_type": "markdown",
      "source": [
        "## Wine Dataset"
      ],
      "metadata": {
        "id": "o7xgGrO8PUua"
      }
    },
    {
      "cell_type": "code",
      "source": [
        "from sklearn.datasets import load_wine"
      ],
      "metadata": {
        "id": "N3STmLoLPUub"
      },
      "execution_count": 264,
      "outputs": []
    },
    {
      "cell_type": "code",
      "source": [
        "# Load dataset\n",
        "data_frame = load_wine()\n",
        "data = data_frame.data\n",
        "target = data_frame.target"
      ],
      "metadata": {
        "id": "8iSWlmYtPUuc"
      },
      "execution_count": 267,
      "outputs": []
    },
    {
      "cell_type": "code",
      "source": [
        "X_train, X_test, y_train, y_test = train_test_split(data, target, test_size=0.2, random_state=42)\n",
        "\n",
        "y_train0 = np.where(y_train == 0, -1, 1)\n",
        "y_test0 = np.where(y_test == 0, -1, 1)\n",
        "y_train1 = np.where(y_train == 1, -1, 1)\n",
        "y_test1 = np.where(y_test == 1, -1, 1)\n",
        "y_train2 = np.where(y_train == 2, -1, 1)\n",
        "y_test2 = np.where(y_test == 2, -1, 1)\n",
        "\n",
        "# Standardize features\n",
        "from sklearn.preprocessing import StandardScaler\n",
        "scaler = StandardScaler()\n",
        "X_train = scaler.fit_transform(X_train)\n",
        "X_test = scaler.transform(X_test)"
      ],
      "metadata": {
        "id": "UYwhCFLYPUud"
      },
      "execution_count": 268,
      "outputs": []
    },
    {
      "cell_type": "code",
      "source": [
        "clf = SupportVectorMachine()\n",
        "clf.fit(X_train, y_train0)\n",
        "y_pred0 = clf.predict(X_test)\n",
        "\n",
        "clf = SupportVectorMachine()\n",
        "clf.fit(X_train, y_train1)\n",
        "y_pred1 = clf.predict(X_test)\n",
        "\n",
        "clf = SupportVectorMachine()\n",
        "clf.fit(X_train, y_train2)\n",
        "y_pred2 = clf.predict(X_test)"
      ],
      "metadata": {
        "colab": {
          "base_uri": "https://localhost:8080/"
        },
        "id": "cWyclnEfPUud",
        "outputId": "13ec3735-476e-41d2-ff4f-0b5d910a2f0d"
      },
      "execution_count": 269,
      "outputs": [
        {
          "output_type": "stream",
          "name": "stdout",
          "text": [
            "     pcost       dcost       gap    pres   dres\n",
            " 0: -8.5817e+00 -1.9749e+02  7e+02  2e+00  6e-16\n",
            " 1: -4.3545e+00 -8.6385e+01  9e+01  2e-02  7e-16\n",
            " 2: -8.4139e+00 -2.3824e+01  2e+01  3e-03  6e-16\n",
            " 3: -1.0219e+01 -1.3818e+01  4e+00  5e-04  5e-16\n",
            " 4: -1.0892e+01 -1.1944e+01  1e+00  1e-04  5e-16\n",
            " 5: -1.1156e+01 -1.1319e+01  2e-01  2e-16  5e-16\n",
            " 6: -1.1208e+01 -1.1219e+01  1e-02  4e-16  5e-16\n",
            " 7: -1.1212e+01 -1.1212e+01  5e-04  8e-16  5e-16\n",
            " 8: -1.1212e+01 -1.1212e+01  1e-05  2e-16  5e-16\n",
            "Optimal solution found.\n",
            "     pcost       dcost       gap    pres   dres\n",
            " 0: -1.7260e+01 -2.1948e+02  7e+02  2e+00  6e-16\n",
            " 1: -1.1850e+01 -1.0631e+02  9e+01  4e-16  6e-16\n",
            " 2: -1.7189e+01 -3.1216e+01  1e+01  6e-16  6e-16\n",
            " 3: -1.9662e+01 -2.4367e+01  5e+00  4e-16  5e-16\n",
            " 4: -2.0756e+01 -2.1366e+01  6e-01  9e-16  5e-16\n",
            " 5: -2.0965e+01 -2.0993e+01  3e-02  2e-15  6e-16\n",
            " 6: -2.0976e+01 -2.0977e+01  9e-04  2e-15  5e-16\n",
            " 7: -2.0977e+01 -2.0977e+01  3e-05  6e-16  5e-16\n",
            " 8: -2.0977e+01 -2.0977e+01  2e-06  6e-16  5e-16\n",
            "Optimal solution found.\n",
            "     pcost       dcost       gap    pres   dres\n",
            " 0: -9.3946e+00 -2.0325e+02  8e+02  2e+00  6e-16\n",
            " 1: -5.4433e+00 -9.2742e+01  1e+02  5e-02  7e-16\n",
            " 2: -9.1127e+00 -2.3000e+01  1e+01  7e-03  6e-16\n",
            " 3: -1.1048e+01 -1.4024e+01  3e+00  9e-04  6e-16\n",
            " 4: -1.1691e+01 -1.2362e+01  7e-01  1e-04  6e-16\n",
            " 5: -1.1879e+01 -1.2002e+01  1e-01  1e-05  6e-16\n",
            " 6: -1.1921e+01 -1.1927e+01  7e-03  3e-07  6e-16\n",
            " 7: -1.1924e+01 -1.1924e+01  4e-04  4e-16  6e-16\n",
            " 8: -1.1924e+01 -1.1924e+01  1e-05  3e-16  6e-16\n",
            "Optimal solution found.\n"
          ]
        }
      ]
    },
    {
      "cell_type": "code",
      "source": [
        "y_pred = np.zeros(len(y_pred0))\n",
        "y_pred[y_pred0 == -1] = 0\n",
        "y_pred[y_pred1 == -1] = 1\n",
        "y_pred[y_pred2 == -1] = 2"
      ],
      "metadata": {
        "id": "bHjTtJT0PUue"
      },
      "execution_count": 270,
      "outputs": []
    },
    {
      "cell_type": "code",
      "source": [
        "cmt = confusion_matrix(y_test, y_pred)\n",
        "acc = np.trace(cmt)/np.sum(np.sum(cmt))\n",
        "print(\"percepton accuracy: \", acc)"
      ],
      "metadata": {
        "colab": {
          "base_uri": "https://localhost:8080/"
        },
        "outputId": "f8f52a37-d1e0-460f-ebee-a3621b0a1d47",
        "id": "y6YBHihDPUue"
      },
      "execution_count": 271,
      "outputs": [
        {
          "output_type": "stream",
          "name": "stdout",
          "text": [
            "percepton accuracy:  1.0\n"
          ]
        }
      ]
    },
    {
      "cell_type": "code",
      "source": [
        "plt.figure()\n",
        "sns.heatmap(cmt, annot=True, fmt=\"d\")\n",
        "plt.title(\"Confusion Matrix\"); plt.xlabel(\"predicted\");\n",
        "plt.ylabel(\"actual\")\n",
        "plt.show()"
      ],
      "metadata": {
        "colab": {
          "base_uri": "https://localhost:8080/",
          "height": 472
        },
        "outputId": "a8bbe20f-1aba-48f4-c97e-682fc5b90d84",
        "id": "-x016KzFPUuf"
      },
      "execution_count": 272,
      "outputs": [
        {
          "output_type": "display_data",
          "data": {
            "text/plain": [
              "<Figure size 640x480 with 2 Axes>"
            ],
            "image/png": "[encoded data removed]"
          },
          "metadata": {}
        }
      ]
    },
    {
      "cell_type": "code",
      "source": [],
      "metadata": {
        "id": "Jn9VzYWcP5GE"
      },
      "execution_count": null,
      "outputs": []
    }
  ]
}