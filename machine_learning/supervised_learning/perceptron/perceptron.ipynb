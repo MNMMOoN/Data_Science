{
  "nbformat": 4,
  "nbformat_minor": 0,
  "metadata": {
    "colab": {
      "provenance": []
    },
    "kernelspec": {
      "name": "python3",
      "display_name": "Python 3"
    },
    "language_info": {
      "name": "python"
    }
  },
  "cells": [
    {
      "cell_type": "markdown",
      "source": [
        "<div style=\"text-align: center;\">\n",
        "    <h1>Classification Problems: Perceptron</h1>\n",
        "    <h3>Mohammad Nourbakhsh Marvast</h3>\n",
        "</div>\n"
      ],
      "metadata": {
        "id": "FZXXqvhS8wJ-"
      }
    },
    {
      "cell_type": "code",
      "source": [
        "import numpy as np;\n",
        "import matplotlib.pyplot as plt;\n",
        "import pandas as pd;\n",
        "from sklearn.model_selection import train_test_split\n",
        "\n",
        "import seaborn as sns\n",
        "from sklearn.metrics import confusion_matrix"
      ],
      "metadata": {
        "id": "qmmjTmf2AAj6"
      },
      "execution_count": 1,
      "outputs": []
    },
    {
      "cell_type": "markdown",
      "source": [
        "## Perceptron Class"
      ],
      "metadata": {
        "id": "kdHVg4GnKo8V"
      }
    },
    {
      "cell_type": "code",
      "source": [
        "class perceptron:\n",
        "  def __init__(self, num_epochs, eta=0.1):\n",
        "    self.num_epochs = num_epochs\n",
        "    self.theta0 = 0\n",
        "    self.theta = None\n",
        "    self.eta = eta\n",
        "\n",
        "  def fit(self, X_train, y_train):\n",
        "\n",
        "    n, dim = X_train.shape\n",
        "    self.theta = np.zeros(dim)\n",
        "\n",
        "    #X_train = np.array(X_train)\n",
        "    #y_train = np.array(y_train)\n",
        "\n",
        "    for _ in range(self.num_epochs):\n",
        "      for i in range(n):\n",
        "        #idx = randint.rvs(0, n-1, size=1)[0]\n",
        "        linear_output = np.dot(self.theta, X_train[i]) + self.theta0\n",
        "        y_i = 1 if linear_output >= 0 else 0\n",
        "\n",
        "        update = self.eta * (y_train[i] - y_i)\n",
        "        self.theta += update * X_train[i]\n",
        "        self.theta0 += update\n",
        "\n",
        "      #print(\"epoch: \", epoch)\n",
        "    #print(\"theta: \", self.theta)\n",
        "    #print(\"theta0: \", self.theta0)\n",
        "\n",
        "  def predict(self, X_test):\n",
        "    n, dim = X_test.shape\n",
        "    y_pred = np.zeros(n)\n",
        "\n",
        "    X_test = np.array(X_test)\n",
        "\n",
        "    linear_output = np.matmul(X_test, self.theta) + self.theta0\n",
        "    y_pred = np.where(linear_output >= 0, 1, 0)\n",
        "    return y_pred"
      ],
      "metadata": {
        "id": "msLU4vj9HrEU"
      },
      "execution_count": 2,
      "outputs": []
    },
    {
      "cell_type": "markdown",
      "source": [
        "## Cancer Dataset"
      ],
      "metadata": {
        "id": "ALdCsxW8Ksjt"
      }
    },
    {
      "cell_type": "code",
      "source": [
        "from sklearn.datasets import load_breast_cancer"
      ],
      "metadata": {
        "id": "NEMVvK1MdP1H"
      },
      "execution_count": 3,
      "outputs": []
    },
    {
      "cell_type": "code",
      "source": [
        "# Load dataset\n",
        "data_frame = load_breast_cancer()\n",
        "data = data_frame.data\n",
        "target = data_frame.target"
      ],
      "metadata": {
        "id": "dP3_NfkSAeqa"
      },
      "execution_count": 4,
      "outputs": []
    },
    {
      "cell_type": "code",
      "source": [
        "X_train, X_test, y_train, y_test = train_test_split(data, target, test_size=0.2, random_state=42)\n",
        "\n",
        "# Standardize features\n",
        "from sklearn.preprocessing import StandardScaler\n",
        "scaler = StandardScaler()\n",
        "X_train = scaler.fit_transform(X_train)\n",
        "X_test = scaler.transform(X_test)"
      ],
      "metadata": {
        "id": "G6aRcaQGHFhn"
      },
      "execution_count": 5,
      "outputs": []
    },
    {
      "cell_type": "code",
      "source": [
        "clf = perceptron(num_epochs=4, eta = 0.001)\n",
        "clf.fit(X_train, y_train)\n",
        "y_pred = clf.predict(X_test)"
      ],
      "metadata": {
        "id": "NWe-9V-mHsm0"
      },
      "execution_count": 6,
      "outputs": []
    },
    {
      "cell_type": "code",
      "source": [
        "cmt = confusion_matrix(y_test, y_pred)\n",
        "acc = np.trace(cmt)/np.sum(np.sum(cmt))\n",
        "print(\"percepton accuracy: \", acc)\n",
        "\n",
        "# Evaluate model accuracy\n",
        "#accuracy = accuracy_score(y_test, y_pred)\n",
        "#print(f'Perceptron Model Accuracy: {accuracy:.2f}')\n"
      ],
      "metadata": {
        "colab": {
          "base_uri": "https://localhost:8080/"
        },
        "id": "HOZw6ovpVmby",
        "outputId": "3f73542b-de39-475a-a2bb-d16a7696647a"
      },
      "execution_count": 7,
      "outputs": [
        {
          "output_type": "stream",
          "name": "stdout",
          "text": [
            "percepton accuracy:  0.9824561403508771\n"
          ]
        }
      ]
    },
    {
      "cell_type": "code",
      "source": [
        "plt.figure()\n",
        "sns.heatmap(cmt, annot=True, fmt=\"d\")\n",
        "plt.title(\"Confusion Matrix\"); plt.xlabel(\"predicted\");\n",
        "plt.ylabel(\"actual\")\n",
        "plt.show()"
      ],
      "metadata": {
        "colab": {
          "base_uri": "https://localhost:8080/",
          "height": 0
        },
        "id": "JALuH_CTVvVV",
        "outputId": "d9d9227b-1dc0-4b99-fb09-6f050732798b"
      },
      "execution_count": 8,
      "outputs": [
        {
          "output_type": "display_data",
          "data": {
            "text/plain": [
              "<Figure size 640x480 with 2 Axes>"
            ],
            "image/png": "[encoded data removed]"
          },
          "metadata": {}
        }
      ]
    },
    {
      "cell_type": "code",
      "source": [
        "from sklearn.linear_model import Perceptron"
      ],
      "metadata": {
        "id": "0Igf1HQFVyef"
      },
      "execution_count": 9,
      "outputs": []
    },
    {
      "cell_type": "code",
      "source": [
        "# Initialize and train Perceptron model\n",
        "perceptron_ = Perceptron(max_iter=1000, eta0=0.1, random_state=42)\n",
        "perceptron_.fit(X_train, y_train)\n",
        "\n",
        "# Make predictions\n",
        "y_pred = perceptron_.predict(X_test)\n",
        "\n",
        "\n",
        "cmt = confusion_matrix(y_test, y_pred)\n",
        "acc = np.trace(cmt)/np.sum(np.sum(cmt))\n",
        "print(\"percepton accuracy: \", acc)\n",
        "\n",
        "\n",
        "plt.figure()\n",
        "sns.heatmap(cmt, annot=True, fmt=\"d\")\n",
        "plt.title(\"Confusion Matrix\"); plt.xlabel(\"predicted\");\n",
        "plt.ylabel(\"actual\")\n",
        "plt.show()"
      ],
      "metadata": {
        "colab": {
          "base_uri": "https://localhost:8080/",
          "height": 0
        },
        "id": "MQjScegletkn",
        "outputId": "72191e35-09d7-415d-e5a0-e7d4bcc319f3"
      },
      "execution_count": 10,
      "outputs": [
        {
          "output_type": "stream",
          "name": "stdout",
          "text": [
            "percepton accuracy:  0.9736842105263158\n"
          ]
        },
        {
          "output_type": "display_data",
          "data": {
            "text/plain": [
              "<Figure size 640x480 with 2 Axes>"
            ],
            "image/png": "[encoded data removed]"
          },
          "metadata": {}
        }
      ]
    },
    {
      "cell_type": "markdown",
      "source": [
        "## Wine Dataset"
      ],
      "metadata": {
        "id": "BjyBgTNRKyxJ"
      }
    },
    {
      "cell_type": "code",
      "source": [
        "from sklearn.datasets import load_wine"
      ],
      "metadata": {
        "id": "RAf9ylYufNjE"
      },
      "execution_count": 11,
      "outputs": []
    },
    {
      "cell_type": "code",
      "source": [
        "# Load dataset\n",
        "data_frame = load_wine()\n",
        "data = data_frame.data\n",
        "target = data_frame.target"
      ],
      "metadata": {
        "id": "S1JKBTmBK5VP"
      },
      "execution_count": 12,
      "outputs": []
    },
    {
      "cell_type": "code",
      "source": [
        "X_train, X_test, y_train, y_test = train_test_split(data, target, test_size=0.2, random_state=42)\n",
        "\n",
        "y_train0 = np.where(y_train == 0, 0, 1)\n",
        "y_train1 = np.where(y_train == 1, 0, 1)\n",
        "y_train2 = np.where(y_train == 2, 0, 1)\n",
        "\n",
        "# Standardize features\n",
        "from sklearn.preprocessing import StandardScaler\n",
        "scaler = StandardScaler()\n",
        "X_train = scaler.fit_transform(X_train)\n",
        "X_test = scaler.transform(X_test)"
      ],
      "metadata": {
        "id": "jMu06mToNOBk"
      },
      "execution_count": 13,
      "outputs": []
    },
    {
      "cell_type": "code",
      "source": [
        "clf = perceptron(num_epochs=3, eta = 0.001)\n",
        "clf.fit(X_train, y_train0)\n",
        "y_pred0 = clf.predict(X_test)\n",
        "\n",
        "clf.fit(X_train, y_train1)\n",
        "y_pred1 = clf.predict(X_test)\n",
        "\n",
        "clf.fit(X_train, y_train2)\n",
        "y_pred2 = clf.predict(X_test)"
      ],
      "metadata": {
        "id": "J3XXWrY1NQl0"
      },
      "execution_count": 14,
      "outputs": []
    },
    {
      "cell_type": "code",
      "source": [
        "y_pred = np.zeros(len(y_pred0))\n",
        "y_pred[y_pred0 == 0] = 0\n",
        "y_pred[y_pred1 == 0] = 1\n",
        "y_pred[y_pred2 == 0] = 2"
      ],
      "metadata": {
        "id": "xsYqHrzpOLak"
      },
      "execution_count": 15,
      "outputs": []
    },
    {
      "cell_type": "code",
      "source": [
        "cmt = confusion_matrix(y_test, y_pred)\n",
        "acc = np.trace(cmt)/np.sum(np.sum(cmt))\n",
        "print(\"percepton accuracy: \", acc)"
      ],
      "metadata": {
        "colab": {
          "base_uri": "https://localhost:8080/"
        },
        "id": "tLBL0e3FPq7c",
        "outputId": "d2b0a811-5af5-413f-d308-3fc5ab4b9bce"
      },
      "execution_count": 16,
      "outputs": [
        {
          "output_type": "stream",
          "name": "stdout",
          "text": [
            "percepton accuracy:  1.0\n"
          ]
        }
      ]
    },
    {
      "cell_type": "code",
      "source": [
        "plt.figure()\n",
        "sns.heatmap(cmt, annot=True, fmt=\"d\")\n",
        "plt.title(\"Confusion Matrix\"); plt.xlabel(\"predicted\");\n",
        "plt.ylabel(\"actual\")\n",
        "plt.show()"
      ],
      "metadata": {
        "colab": {
          "base_uri": "https://localhost:8080/",
          "height": 0
        },
        "id": "JrvFZaoJQoQ1",
        "outputId": "0c2459f1-d629-4b29-fe4f-179a4cbc7f6d"
      },
      "execution_count": 17,
      "outputs": [
        {
          "output_type": "display_data",
          "data": {
            "text/plain": [
              "<Figure size 640x480 with 2 Axes>"
            ],
            "image/png": "[encoded data removed]"
          },
          "metadata": {}
        }
      ]
    },
    {
      "cell_type": "markdown",
      "source": [
        "## Iris Dataset"
      ],
      "metadata": {
        "id": "mT_veBvPRLR_"
      }
    },
    {
      "cell_type": "code",
      "source": [
        "from sklearn.datasets import load_iris"
      ],
      "metadata": {
        "id": "HOGVaDa7Qs4r"
      },
      "execution_count": 18,
      "outputs": []
    },
    {
      "cell_type": "code",
      "source": [
        "data_frame = load_iris()\n",
        "data = data_frame.data\n",
        "target = data_frame.target"
      ],
      "metadata": {
        "id": "yHlC6eO8RXks"
      },
      "execution_count": 19,
      "outputs": []
    },
    {
      "cell_type": "code",
      "source": [
        "X_train, X_test, y_train, y_test = train_test_split(data, target, test_size=0.2, random_state=42)\n",
        "\n",
        "y_train0 = np.where(y_train == 0, 0, 1)\n",
        "y_train1 = np.where(y_train == 1, 0, 1)\n",
        "y_train2 = np.where(y_train == 2, 0, 1)\n",
        "\n",
        "# Standardize features\n",
        "from sklearn.preprocessing import StandardScaler\n",
        "scaler = StandardScaler()\n",
        "X_train = scaler.fit_transform(X_train)\n",
        "X_test = scaler.transform(X_test)"
      ],
      "metadata": {
        "id": "H-rbDRXNRaxZ"
      },
      "execution_count": 20,
      "outputs": []
    },
    {
      "cell_type": "code",
      "source": [
        "clf = perceptron(num_epochs=5, eta = 0.01)\n",
        "clf.fit(X_train, y_train0)\n",
        "y_pred0 = clf.predict(X_test)\n",
        "y_test0 = np.where(y_test == 0, 0, 1)\n",
        "\n",
        "clf.fit(X_train, y_train1)\n",
        "y_pred1 = clf.predict(X_test)\n",
        "y_test1 = np.where(y_test == 1, 0, 1)\n",
        "\n",
        "clf.fit(X_train, y_train2)\n",
        "y_pred2 = clf.predict(X_test)\n",
        "y_test2 = np.where(y_test == 2, 0, 1)"
      ],
      "metadata": {
        "id": "itxjojqoRbjp"
      },
      "execution_count": 21,
      "outputs": []
    },
    {
      "cell_type": "code",
      "source": [
        "y_pred = np.zeros(len(y_pred0))\n",
        "y_pred[y_pred0 == 0] = 0\n",
        "y_pred[y_pred0 == 1] = 1\n",
        "y_pred[y_pred2 == 0] = 2"
      ],
      "metadata": {
        "id": "6V61F9poRroY"
      },
      "execution_count": 22,
      "outputs": []
    },
    {
      "cell_type": "code",
      "source": [
        "cmt = confusion_matrix(y_test, y_pred)\n",
        "acc = np.trace(cmt)/np.sum(np.sum(cmt))\n",
        "print(\"percepton accuracy: \", acc)\n",
        "\n",
        "plt.figure()\n",
        "sns.heatmap(cmt, annot=True, fmt=\"d\")\n",
        "plt.title(\"Confusion Matrix\"); plt.xlabel(\"predicted\");\n",
        "plt.ylabel(\"actual\")\n",
        "plt.show()"
      ],
      "metadata": {
        "colab": {
          "base_uri": "https://localhost:8080/",
          "height": 0
        },
        "id": "cwGA9OGyRuUb",
        "outputId": "062dd728-a9da-44cd-e3ec-768ed61842bc"
      },
      "execution_count": 23,
      "outputs": [
        {
          "output_type": "stream",
          "name": "stdout",
          "text": [
            "percepton accuracy:  0.9666666666666667\n"
          ]
        },
        {
          "output_type": "display_data",
          "data": {
            "text/plain": [
              "<Figure size 640x480 with 2 Axes>"
            ],
            "image/png": "[encoded data removed]"
          },
          "metadata": {}
        }
      ]
    },
    {
      "cell_type": "code",
      "source": [
        "from sklearn.linear_model import Perceptron\n",
        "\n",
        "# Initialize and train Perceptron model\n",
        "perceptron_ = Perceptron(max_iter=1000, eta0=0.1, random_state=42)\n",
        "perceptron_.fit(X_train, y_train)\n",
        "\n",
        "# Make predictions\n",
        "y_pred = perceptron_.predict(X_test)\n",
        "\n",
        "\n",
        "cmt = confusion_matrix(y_test, y_pred)\n",
        "acc = np.trace(cmt)/np.sum(np.sum(cmt))\n",
        "print(\"percepton accuracy: \", acc)\n",
        "\n",
        "\n",
        "plt.figure()\n",
        "sns.heatmap(cmt, annot=True, fmt=\"d\")\n",
        "plt.title(\"Confusion Matrix\"); plt.xlabel(\"predicted\");\n",
        "plt.ylabel(\"actual\")\n",
        "plt.show()"
      ],
      "metadata": {
        "colab": {
          "base_uri": "https://localhost:8080/",
          "height": 0
        },
        "id": "WSxmTNDZRylb",
        "outputId": "04624c63-559f-4b64-9b3f-b6c042d8a188"
      },
      "execution_count": 24,
      "outputs": [
        {
          "output_type": "stream",
          "name": "stdout",
          "text": [
            "percepton accuracy:  0.9333333333333333\n"
          ]
        },
        {
          "output_type": "display_data",
          "data": {
            "text/plain": [
              "<Figure size 640x480 with 2 Axes>"
            ],
            "image/png": "[encoded data removed]"
          },
          "metadata": {}
        }
      ]
    },
    {
      "cell_type": "code",
      "source": [],
      "metadata": {
        "id": "TWD0jNKbTEpd"
      },
      "execution_count": 24,
      "outputs": []
    }
  ]
}