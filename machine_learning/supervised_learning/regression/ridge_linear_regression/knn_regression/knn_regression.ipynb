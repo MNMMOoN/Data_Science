{
  "nbformat": 4,
  "nbformat_minor": 0,
  "metadata": {
    "colab": {
      "provenance": []
    },
    "kernelspec": {
      "name": "python3",
      "display_name": "Python 3"
    },
    "language_info": {
      "name": "python"
    }
  },
  "cells": [
    {
      "cell_type": "markdown",
      "source": [
        "<div style=\"text-align: center;\">\n",
        "    <h1>Regression Problems: KNN regression</h1>\n",
        "    <h3>Mohammad Nourbakhsh Marvast</h3>\n",
        "</div>\n"
      ],
      "metadata": {
        "id": "FZXXqvhS8wJ-"
      }
    },
    {
      "cell_type": "code",
      "execution_count": 32,
      "metadata": {
        "id": "xtFsRnMcKeG7"
      },
      "outputs": [],
      "source": [
        "import numpy as np;\n",
        "import matplotlib.pyplot as plt;\n",
        "from sklearn.model_selection import train_test_split\n",
        "\n",
        "import seaborn as sns\n",
        "from sklearn.metrics import confusion_matrix"
      ]
    },
    {
      "cell_type": "code",
      "source": [
        "class knn_regression:\n",
        "  def __init__(self, k):\n",
        "    self.k = k\n",
        "    self.X = None\n",
        "    self.y = None\n",
        "\n",
        "  def fit(self, X, y):\n",
        "    self.X = X\n",
        "    self.y = y\n",
        "\n",
        "  def euclidean_distance(self, x1, x2):\n",
        "    return np.sqrt(np.dot(x1-x2, x1-x2))\n",
        "\n",
        "  def predict_one(self, x):\n",
        "    distances = np.array([[i, self.euclidean_distance(x, self.X[i])] for i in range(self.X.shape[0])])\n",
        "    sorted_items = distances[distances[:, 1].argsort()]\n",
        "    k_nearest_items = sorted_items[:self.k]\n",
        "    k_nearest_idx = k_nearest_items[:, 0].astype(int)\n",
        "    return np.mean(self.y[k_nearest_idx])\n",
        "\n",
        "  def predict(self, X):\n",
        "    y_pred = np.zeros(X.shape[0])\n",
        "    for i in range(X.shape[0]):\n",
        "      y_pred[i] = self.predict_one(X[i])\n",
        "    return y_pred\n"
      ],
      "metadata": {
        "id": "z06fCg4QMGy0"
      },
      "execution_count": 37,
      "outputs": []
    },
    {
      "cell_type": "code",
      "source": [
        "from scipy.spatial.distance import cdist\n",
        "\n",
        "class opt_knn_regression:\n",
        "    def __init__(self, k):\n",
        "        self.k = k\n",
        "        self.X = None\n",
        "        self.y = None\n",
        "\n",
        "    def fit(self, X, y):\n",
        "        # Convert to NumPy arrays with float type for consistency and performance\n",
        "        self.X = np.asarray(X, dtype=float)\n",
        "        self.y = np.asarray(y, dtype=float)\n",
        "\n",
        "    def predict(self, X):\n",
        "        # Ensure X is a NumPy array of floats\n",
        "        X = np.asarray(X, dtype=float)\n",
        "        # Compute distance matrix between all test points and training points\n",
        "        distances = cdist(X, self.X, 'euclidean')\n",
        "        # Find indices of k nearest neighbors for each test point\n",
        "        nearest_idx = np.argpartition(distances, kth=self.k, axis=1)[:, :self.k]\n",
        "        # Compute mean of y values for k nearest neighbors\n",
        "        y_pred = np.mean(self.y[nearest_idx], axis=1)\n",
        "        return y_pred"
      ],
      "metadata": {
        "id": "vBKvBRRGXYEe"
      },
      "execution_count": 96,
      "outputs": []
    },
    {
      "cell_type": "markdown",
      "source": [
        "## Iris Dataset"
      ],
      "metadata": {
        "id": "Vra8tc1DVCnX"
      }
    },
    {
      "cell_type": "code",
      "source": [
        "from sklearn.datasets import load_iris"
      ],
      "metadata": {
        "id": "ZIIuT-gsRnRZ"
      },
      "execution_count": 38,
      "outputs": []
    },
    {
      "cell_type": "code",
      "source": [
        "plt.close('all')\n",
        "#iris dataset\n",
        "iris = load_iris()\n",
        "X = iris.data[:,:2]\n",
        "y = iris.target"
      ],
      "metadata": {
        "id": "bsQHn8hgQ2iF"
      },
      "execution_count": 55,
      "outputs": []
    },
    {
      "cell_type": "code",
      "source": [
        "X_train, X_test, y_train, y_test = train_test_split(X, y, test_size=0.2, random_state=42)\n",
        "\n",
        "# Standardize features\n",
        "from sklearn.preprocessing import StandardScaler\n",
        "scaler = StandardScaler()\n",
        "X_train = scaler.fit_transform(X_train)\n",
        "X_test = scaler.transform(X_test)"
      ],
      "metadata": {
        "id": "38P-qmBQUuSS"
      },
      "execution_count": 75,
      "outputs": []
    },
    {
      "cell_type": "code",
      "source": [
        "K = 4\n",
        "knn = knn_regression(K)\n",
        "knn.fit(X_train, y_train)\n",
        "y_pred = np.round(knn.predict(X_test),0).astype(int)"
      ],
      "metadata": {
        "id": "gp8KhJFmRvWT"
      },
      "execution_count": 85,
      "outputs": []
    },
    {
      "cell_type": "code",
      "source": [
        "print('y_pred:', y_pred)\n",
        "print('y_test:', y_test)"
      ],
      "metadata": {
        "colab": {
          "base_uri": "https://localhost:8080/"
        },
        "id": "TxSClWWvTVDs",
        "outputId": "3a1ff136-2670-40a6-a85f-4b42e2880ace"
      },
      "execution_count": 86,
      "outputs": [
        {
          "output_type": "stream",
          "name": "stdout",
          "text": [
            "y_pred: [2 0 2 1 1 0 1 2 1 2 2 0 0 0 0 2 2 1 2 2 0 2 0 2 2 1 2 2 0 0]\n",
            "y_test: [1 0 2 1 1 0 1 2 1 1 2 0 0 0 0 1 2 1 1 2 0 2 0 2 2 2 2 2 0 0]\n"
          ]
        }
      ]
    },
    {
      "cell_type": "code",
      "source": [
        "cmt = confusion_matrix(y_test, y_pred)\n",
        "acc = np.trace(cmt)/np.sum(np.sum(cmt))\n",
        "print(\"Decision tree accuracy: \", acc)\n",
        "\n",
        "plt.figure()\n",
        "sns.heatmap(cmt, annot=True, fmt=\"d\")\n",
        "plt.title(\"Confusion Matrix\"); plt.xlabel(\"predicted\");\n",
        "plt.ylabel(\"actual\")\n",
        "plt.show()"
      ],
      "metadata": {
        "colab": {
          "base_uri": "https://localhost:8080/",
          "height": 489
        },
        "id": "cAjZhWIQRxtl",
        "outputId": "424b5fd4-4fe2-4d04-be9a-d8ac08d7ec89"
      },
      "execution_count": 87,
      "outputs": [
        {
          "output_type": "stream",
          "name": "stdout",
          "text": [
            "Decision tree accuracy:  0.8333333333333334\n"
          ]
        },
        {
          "output_type": "display_data",
          "data": {
            "text/plain": [
              "<Figure size 640x480 with 2 Axes>"
            ],
            "image/png": "[encoded data removed]"
          },
          "metadata": {}
        }
      ]
    },
    {
      "cell_type": "markdown",
      "source": [],
      "metadata": {
        "id": "apMni6AeVFX5"
      }
    },
    {
      "cell_type": "code",
      "source": [],
      "metadata": {
        "id": "BoHcEyANTDkF"
      },
      "execution_count": null,
      "outputs": []
    },
    {
      "cell_type": "markdown",
      "source": [
        "## California Housing Dataset"
      ],
      "metadata": {
        "id": "pzUHOF9q1muq"
      }
    },
    {
      "cell_type": "code",
      "source": [
        "from sklearn.datasets import fetch_california_housing"
      ],
      "metadata": {
        "id": "xAX9wAqyhqSq"
      },
      "execution_count": 88,
      "outputs": []
    },
    {
      "cell_type": "code",
      "source": [
        "# Load dataset\n",
        "data_frame = fetch_california_housing()\n",
        "data = data_frame.data\n",
        "target = data_frame.target"
      ],
      "metadata": {
        "id": "5WY4pkLshwuB"
      },
      "execution_count": 89,
      "outputs": []
    },
    {
      "cell_type": "code",
      "source": [
        "X_train, X_test, y_train, y_test = train_test_split(data, target, test_size=0.2, random_state=42)\n",
        "\n",
        "# Standardize features\n",
        "from sklearn.preprocessing import StandardScaler\n",
        "scaler = StandardScaler()\n",
        "X_train = scaler.fit_transform(X_train)\n",
        "X_test = scaler.transform(X_test)"
      ],
      "metadata": {
        "id": "yPTQW2prh5hF"
      },
      "execution_count": 90,
      "outputs": []
    },
    {
      "cell_type": "code",
      "source": [
        "clf = knn_regression(k= 5)\n",
        "clf.fit(X_train, y_train)\n",
        "y_pred = clf.predict(X_test)"
      ],
      "metadata": {
        "id": "WizLUZ9Nh8qu"
      },
      "execution_count": 92,
      "outputs": []
    },
    {
      "cell_type": "code",
      "source": [
        "print(y_pred)\n",
        "print(y_test)"
      ],
      "metadata": {
        "colab": {
          "base_uri": "https://localhost:8080/"
        },
        "id": "a-GTBusRoA8i",
        "outputId": "9620cec9-5a1b-42ae-8f34-790c9c5ca6ee"
      },
      "execution_count": 93,
      "outputs": [
        {
          "output_type": "stream",
          "name": "stdout",
          "text": [
            "[0.4988   0.7646   4.750006 ... 4.761208 0.692    1.8944  ]\n",
            "[0.477   0.458   5.00001 ... 5.00001 0.723   1.515  ]\n"
          ]
        }
      ]
    },
    {
      "cell_type": "code",
      "source": [
        "# Evaluate\n",
        "\n",
        "print(f\"Test MSE: {np.mean((y_test - y_pred) ** 2):.4f}\")"
      ],
      "metadata": {
        "colab": {
          "base_uri": "https://localhost:8080/"
        },
        "id": "A_dLaTvkiEX5",
        "outputId": "370f5768-e248-4b0d-8be3-d32205b4547a"
      },
      "execution_count": 95,
      "outputs": [
        {
          "output_type": "stream",
          "name": "stdout",
          "text": [
            "Test MSE: 0.4324\n"
          ]
        }
      ]
    },
    {
      "cell_type": "code",
      "source": [
        "opt_clf = opt_knn_regression(k= 5)\n",
        "opt_clf.fit(X_train, y_train)\n",
        "opt_y_pred = opt_clf.predict(X_test)"
      ],
      "metadata": {
        "id": "fVkETwhqXN2y"
      },
      "execution_count": 97,
      "outputs": []
    },
    {
      "cell_type": "code",
      "source": [
        "print(y_pred)\n",
        "print(y_test)"
      ],
      "metadata": {
        "colab": {
          "base_uri": "https://localhost:8080/"
        },
        "id": "WzM31NxuXovd",
        "outputId": "d3f60b1a-05fa-450d-fb54-bad37e6c955b"
      },
      "execution_count": 98,
      "outputs": [
        {
          "output_type": "stream",
          "name": "stdout",
          "text": [
            "[0.4988   0.7646   4.750006 ... 4.761208 0.692    1.8944  ]\n",
            "[0.477   0.458   5.00001 ... 5.00001 0.723   1.515  ]\n"
          ]
        }
      ]
    },
    {
      "cell_type": "code",
      "source": [
        "# Evaluate\n",
        "\n",
        "print(f\"Test MSE: {np.mean((y_test - y_pred) ** 2):.4f}\")"
      ],
      "metadata": {
        "colab": {
          "base_uri": "https://localhost:8080/"
        },
        "id": "qUFkc4iAXrzW",
        "outputId": "e2ba7170-7fbc-43ad-e478-06b11fcea773"
      },
      "execution_count": 99,
      "outputs": [
        {
          "output_type": "stream",
          "name": "stdout",
          "text": [
            "Test MSE: 0.4324\n"
          ]
        }
      ]
    },
    {
      "cell_type": "markdown",
      "source": [
        "## Boston Housing Dataset"
      ],
      "metadata": {
        "id": "2AhcB9K812Xr"
      }
    },
    {
      "cell_type": "code",
      "source": [
        "boston_url = \"https://raw.githubusercontent.com/selva86/datasets/master/BostonHousing.csv\"\n",
        "boston_df = pd.read_csv(boston_url)\n",
        "X_bos = boston_df.drop(\"medv\", axis=1).values\n",
        "y_bos = boston_df[\"medv\"].values"
      ],
      "metadata": {
        "id": "TyVGCdYpnoGk"
      },
      "execution_count": 100,
      "outputs": []
    },
    {
      "cell_type": "code",
      "source": [
        "X_train, X_test, y_train, y_test =  train_test_split(X_bos, y_bos, test_size=0.2, random_state=42)\n",
        "\n",
        "from sklearn.preprocessing import StandardScaler\n",
        "scaler = StandardScaler()\n",
        "X_train = scaler.fit_transform(X_train)\n",
        "X_test = scaler.transform(X_test)"
      ],
      "metadata": {
        "id": "NXHSX-cN18wZ"
      },
      "execution_count": 101,
      "outputs": []
    },
    {
      "cell_type": "code",
      "source": [
        "clf = opt_knn_regression(k= 2)\n",
        "clf.fit(X_train, y_train)\n",
        "y_pred = clf.predict(X_test)"
      ],
      "metadata": {
        "id": "m3VRdhX42yrv"
      },
      "execution_count": 142,
      "outputs": []
    },
    {
      "cell_type": "code",
      "source": [
        "print(np.min(np.power(y_pred - y_test,2)))\n",
        "print(np.max(np.power(y_pred - y_test,2)))"
      ],
      "metadata": {
        "colab": {
          "base_uri": "https://localhost:8080/"
        },
        "id": "M44e4kUHYEgf",
        "outputId": "3122d4c9-1238-4f93-89b4-6adfe42a9cf7"
      },
      "execution_count": 143,
      "outputs": [
        {
          "output_type": "stream",
          "name": "stdout",
          "text": [
            "0.009999999999999573\n",
            "642.6225000000001\n"
          ]
        }
      ]
    },
    {
      "cell_type": "code",
      "source": [
        "# Evaluate\n",
        "print(f\"Test MSE: {np.mean((y_test - y_pred) ** 2):.4f}\")"
      ],
      "metadata": {
        "colab": {
          "base_uri": "https://localhost:8080/"
        },
        "id": "hT3XLEOq21cw",
        "outputId": "38f5f378-0db9-431e-e8a0-440d6bdb29e2"
      },
      "execution_count": 145,
      "outputs": [
        {
          "output_type": "stream",
          "name": "stdout",
          "text": [
            "Test MSE: 16.1115\n"
          ]
        }
      ]
    },
    {
      "cell_type": "code",
      "source": [],
      "metadata": {
        "id": "MFwDJK38ZNA2"
      },
      "execution_count": null,
      "outputs": []
    }
  ]
}