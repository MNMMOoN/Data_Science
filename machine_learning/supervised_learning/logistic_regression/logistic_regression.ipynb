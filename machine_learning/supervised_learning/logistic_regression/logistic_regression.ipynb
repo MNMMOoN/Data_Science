{
  "nbformat": 4,
  "nbformat_minor": 0,
  "metadata": {
    "colab": {
      "provenance": []
    },
    "kernelspec": {
      "name": "python3",
      "display_name": "Python 3"
    },
    "language_info": {
      "name": "python"
    }
  },
  "cells": [
    {
      "cell_type": "markdown",
      "source": [
        "<div style=\"text-align: center;\">\n",
        "    <h1>Classification Problems: Logistic Regression</h1>\n",
        "    <h3>Mohammad Nourbakhsh Marvast</h3>\n",
        "</div>\n"
      ],
      "metadata": {
        "id": "FZXXqvhS8wJ-"
      }
    },
    {
      "cell_type": "code",
      "execution_count": 1,
      "metadata": {
        "id": "QbyrwOoxajVd"
      },
      "outputs": [],
      "source": [
        "import numpy as np;\n",
        "import matplotlib.pyplot as plt;\n",
        "import pandas as pd;\n",
        "from sklearn.model_selection import train_test_split\n",
        "\n",
        "import seaborn as sns\n",
        "from sklearn.metrics import confusion_matrix"
      ]
    },
    {
      "cell_type": "markdown",
      "source": [
        "## Logistic Regression Class"
      ],
      "metadata": {
        "id": "kdHVg4GnKo8V"
      }
    },
    {
      "cell_type": "code",
      "source": [
        "class logistic_regression:\n",
        "  def __init__(self, lambda_= 0.01, kappa=0.7, tau= 0.2, epochs= 100):\n",
        "    self.lambda_ = lambda_\n",
        "    self.epochs = epochs\n",
        "    self.theta = None\n",
        "    self.tau = tau\n",
        "    self.kappa = kappa\n",
        "    self.cost =  None\n",
        "    self.miu = None #The mean of the Bernoulli distribution\n",
        "\n",
        "  def sigmoid(self, z):\n",
        "    z = np.clip(z, -500, 500)\n",
        "    return 1 / (1 + np.exp(-z))\n",
        "\n",
        "  def lr_objective(self, X, y, theta):\n",
        "    self.miu = self.sigmoid(X @ theta)\n",
        "    # Clip for numerical stability\n",
        "    self.miu = np.clip(self.miu, 0.001, 0.999)\n",
        "\n",
        "    cost_ = -1/X.shape[0] * np.dot(y, np.log(self.miu)) -1/X.shape[0] * np.dot((1 - y), np.log(1 - self.miu)) + self.lambda_ * np.dot(theta, theta)\n",
        "    grad = - X.T @ (y - self.miu) + 2 * self.lambda_ * theta\n",
        "    return cost_, grad\n",
        "\n",
        "  def fit(self, X_train, y_train):\n",
        "    n_samples, n_features = X_train.shape\n",
        "    self.cost = np.zeros(self.epochs)\n",
        "    self.theta = 0.23 * np.ones(n_features)\n",
        "\n",
        "    for i in range(self.epochs):\n",
        "      #print(self.miu)\n",
        "      eta = pow(self.tau + i+1, -self.kappa)\n",
        "      C, grad = self.lr_objective(X_train, y_train, self.theta)\n",
        "      self.theta -= eta * grad\n",
        "      self.cost[i] = C\n",
        "      if C < 1e-6:\n",
        "        break\n",
        "\n",
        "  def predict(self, X_test):\n",
        "    y_pred = self.sigmoid(np.dot(X_test, self.theta))\n",
        "    y_pred = np.where(y_pred < 0.5, 0, 1)\n",
        "    return y_pred\n",
        "\n",
        "  def plot_cost(self):\n",
        "    #print(self.cost)\n",
        "    plt.figure()\n",
        "    plt.plot(range(len(self.cost)), self.cost)\n",
        "    plt.xlabel('Epochs')\n",
        "    plt.ylabel('Cost')\n",
        "    #plt.xlim(0, 20)\n",
        "    plt.title('Cost vs Epochs')\n",
        "    plt.show()"
      ],
      "metadata": {
        "id": "NdWoj1cdfqdP"
      },
      "execution_count": 411,
      "outputs": []
    },
    {
      "cell_type": "markdown",
      "source": [
        "## Cancer Dataset"
      ],
      "metadata": {
        "id": "ALdCsxW8Ksjt"
      }
    },
    {
      "cell_type": "code",
      "source": [
        "from sklearn.datasets import load_breast_cancer"
      ],
      "metadata": {
        "id": "NEMVvK1MdP1H"
      },
      "execution_count": 8,
      "outputs": []
    },
    {
      "cell_type": "code",
      "source": [
        "# Load dataset\n",
        "data_frame = load_breast_cancer()\n",
        "data = data_frame.data\n",
        "target = data_frame.target"
      ],
      "metadata": {
        "id": "dP3_NfkSAeqa"
      },
      "execution_count": 149,
      "outputs": []
    },
    {
      "cell_type": "code",
      "source": [
        "X_train, X_test, y_train, y_test = train_test_split(data, target, test_size=0.2, random_state=42)\n",
        "\n",
        "# Standardize features\n",
        "from sklearn.preprocessing import StandardScaler\n",
        "scaler = StandardScaler()\n",
        "X_train = scaler.fit_transform(X_train)\n",
        "X_test = scaler.transform(X_test)"
      ],
      "metadata": {
        "id": "G6aRcaQGHFhn"
      },
      "execution_count": 150,
      "outputs": []
    },
    {
      "cell_type": "code",
      "source": [
        "clf = logistic_regression(lambda_= 0.08, tau= 0.9, kappa = 0.6, epochs=100)\n",
        "clf.fit(X_train, y_train)\n",
        "y_pred = clf.predict(X_test)\n",
        "print(y_pred)\n",
        "clf.plot_cost()"
      ],
      "metadata": {
        "id": "NWe-9V-mHsm0",
        "colab": {
          "base_uri": "https://localhost:8080/",
          "height": 541
        },
        "outputId": "07e22143-fb24-41a3-af55-62cdaeb45155"
      },
      "execution_count": 229,
      "outputs": [
        {
          "output_type": "stream",
          "name": "stdout",
          "text": [
            "[1 0 0 1 1 0 0 0 1 1 1 0 1 0 1 0 1 1 1 0 1 1 0 1 1 1 1 1 1 0 1 1 1 1 1 1 0\n",
            " 1 0 1 1 0 1 1 1 1 1 1 1 1 0 0 1 1 1 1 1 0 0 1 1 0 0 1 1 1 0 0 1 1 0 0 1 0\n",
            " 1 1 1 0 1 1 0 1 0 0 0 0 0 0 1 1 1 0 1 1 1 1 0 0 1 0 0 1 0 0 1 1 1 0 1 1 0\n",
            " 1 0 0]\n"
          ]
        },
        {
          "output_type": "display_data",
          "data": {
            "text/plain": [
              "<Figure size 640x480 with 1 Axes>"
            ],
            "image/png": "[encoded data removed]"
          },
          "metadata": {}
        }
      ]
    },
    {
      "cell_type": "code",
      "source": [
        "cmt = confusion_matrix(y_test, y_pred)\n",
        "acc = np.trace(cmt)/np.sum(np.sum(cmt))\n",
        "print(\"Logistic Regression accuracy: \", acc)"
      ],
      "metadata": {
        "colab": {
          "base_uri": "https://localhost:8080/"
        },
        "id": "HOZw6ovpVmby",
        "outputId": "e2acb967-4046-4fd4-e5e9-bd91166d6991"
      },
      "execution_count": 230,
      "outputs": [
        {
          "output_type": "stream",
          "name": "stdout",
          "text": [
            "Logistic Regression accuracy:  0.9736842105263158\n"
          ]
        }
      ]
    },
    {
      "cell_type": "code",
      "source": [
        "plt.figure()\n",
        "sns.heatmap(cmt, annot=True, fmt=\"d\")\n",
        "plt.title(\"Confusion Matrix\"); plt.xlabel(\"predicted\");\n",
        "plt.ylabel(\"actual\")\n",
        "plt.show()"
      ],
      "metadata": {
        "colab": {
          "base_uri": "https://localhost:8080/",
          "height": 472
        },
        "id": "JALuH_CTVvVV",
        "outputId": "6c765399-7eb6-452e-d04d-78cb17b22045"
      },
      "execution_count": 231,
      "outputs": [
        {
          "output_type": "display_data",
          "data": {
            "text/plain": [
              "<Figure size 640x480 with 2 Axes>"
            ],
            "image/png": "[encoded data removed]"
          },
          "metadata": {}
        }
      ]
    },
    {
      "cell_type": "markdown",
      "source": [
        "## Wine Dataset"
      ],
      "metadata": {
        "id": "BjyBgTNRKyxJ"
      }
    },
    {
      "cell_type": "code",
      "source": [
        "from sklearn.datasets import load_wine"
      ],
      "metadata": {
        "id": "RAf9ylYufNjE"
      },
      "execution_count": 232,
      "outputs": []
    },
    {
      "cell_type": "code",
      "source": [
        "# Load dataset\n",
        "data_frame = load_wine()\n",
        "data = data_frame.data\n",
        "target = data_frame.target"
      ],
      "metadata": {
        "id": "S1JKBTmBK5VP"
      },
      "execution_count": 352,
      "outputs": []
    },
    {
      "cell_type": "code",
      "source": [
        "X_train, X_test, y_train, y_test = train_test_split(data, target, test_size=0.2, random_state=42)\n",
        "\n",
        "y_train0 = np.where(y_train == 0, 0, 1)\n",
        "y_train1 = np.where(y_train == 1, 0, 1)\n",
        "y_train2 = np.where(y_train == 2, 0, 1)\n",
        "\n",
        "# Standardize features\n",
        "from sklearn.preprocessing import StandardScaler\n",
        "scaler = StandardScaler()\n",
        "X_train = scaler.fit_transform(X_train)\n",
        "X_test = scaler.transform(X_test)"
      ],
      "metadata": {
        "id": "jMu06mToNOBk"
      },
      "execution_count": 353,
      "outputs": []
    },
    {
      "cell_type": "code",
      "source": [
        "clf0 = logistic_regression(lambda_= 0.1, kappa=0.6, tau= 0.2, epochs= 10)\n",
        "clf0.fit(X_train, y_train0)\n",
        "y_pred0 = clf0.predict(X_test)\n",
        "\n",
        "clf1 = logistic_regression(lambda_= 0.1, kappa=0.6, tau= 0.2, epochs= 200)\n",
        "clf1.fit(X_train, y_train1)\n",
        "y_pred1 = clf1.predict(X_test)\n",
        "\n",
        "clf2 = logistic_regression(lambda_= 0.1, kappa=0.6, tau= 0.2, epochs= 100)\n",
        "clf2.fit(X_train, y_train2)\n",
        "y_pred2 = clf2.predict(X_test)"
      ],
      "metadata": {
        "id": "J3XXWrY1NQl0"
      },
      "execution_count": 354,
      "outputs": []
    },
    {
      "cell_type": "code",
      "source": [
        "y_pred = np.zeros(len(y_pred0))\n",
        "y_pred[y_pred1 == 1] = 2\n",
        "y_pred[y_pred0 == 0] = 0\n",
        "y_pred[y_pred1 == 0] = 1\n"
      ],
      "metadata": {
        "id": "xsYqHrzpOLak"
      },
      "execution_count": 355,
      "outputs": []
    },
    {
      "cell_type": "code",
      "source": [
        "cmt = confusion_matrix(y_test, y_pred)\n",
        "acc = np.trace(cmt)/np.sum(np.sum(cmt))\n",
        "print(\"Logistic Regression accuracy: \", acc)"
      ],
      "metadata": {
        "colab": {
          "base_uri": "https://localhost:8080/"
        },
        "id": "tLBL0e3FPq7c",
        "outputId": "dac579a3-d82b-4d58-9dea-498c9d1e3e0e"
      },
      "execution_count": 356,
      "outputs": [
        {
          "output_type": "stream",
          "name": "stdout",
          "text": [
            "Logistic Regression accuracy:  1.0\n"
          ]
        }
      ]
    },
    {
      "cell_type": "code",
      "source": [
        "plt.figure()\n",
        "sns.heatmap(cmt, annot=True, fmt=\"d\")\n",
        "plt.title(\"Confusion Matrix\"); plt.xlabel(\"predicted\");\n",
        "plt.ylabel(\"actual\")\n",
        "plt.show()"
      ],
      "metadata": {
        "colab": {
          "base_uri": "https://localhost:8080/",
          "height": 472
        },
        "id": "JrvFZaoJQoQ1",
        "outputId": "f557353c-6038-47b9-edc9-1ca7f8ceb862"
      },
      "execution_count": 357,
      "outputs": [
        {
          "output_type": "display_data",
          "data": {
            "text/plain": [
              "<Figure size 640x480 with 2 Axes>"
            ],
            "image/png": "[encoded data removed]"
          },
          "metadata": {}
        }
      ]
    },
    {
      "cell_type": "markdown",
      "source": [
        "## Iris Dataset"
      ],
      "metadata": {
        "id": "mT_veBvPRLR_"
      }
    },
    {
      "cell_type": "code",
      "source": [
        "from sklearn.datasets import load_iris"
      ],
      "metadata": {
        "id": "HOGVaDa7Qs4r"
      },
      "execution_count": 358,
      "outputs": []
    },
    {
      "cell_type": "code",
      "source": [
        "data_frame = load_iris()\n",
        "data = data_frame.data\n",
        "target = data_frame.target"
      ],
      "metadata": {
        "id": "yHlC6eO8RXks"
      },
      "execution_count": 376,
      "outputs": []
    },
    {
      "cell_type": "code",
      "source": [
        "X_train, X_test, y_train, y_test = train_test_split(data, target, test_size=0.2, random_state=42)\n",
        "\n",
        "y_train0 = np.where(y_train == 0, 0, 1)\n",
        "y_train1 = np.where(y_train == 1, 0, 1)\n",
        "y_train2 = np.where(y_train == 2, 0, 1)\n",
        "\n",
        "# Standardize features\n",
        "from sklearn.preprocessing import StandardScaler\n",
        "scaler = StandardScaler()\n",
        "X_train = scaler.fit_transform(X_train)\n",
        "X_test = scaler.transform(X_test)"
      ],
      "metadata": {
        "id": "H-rbDRXNRaxZ"
      },
      "execution_count": 412,
      "outputs": []
    },
    {
      "cell_type": "code",
      "source": [
        "clf0 = logistic_regression(lambda_= 0.1, kappa=0.6, tau= 0.2, epochs= 100)\n",
        "clf0.fit(X_train, y_train0)\n",
        "y_pred0 = clf0.predict(X_test)\n",
        "y_test0 = np.where(y_test == 0, 0, 1)\n",
        "\n",
        "clf1 = logistic_regression(lambda_= 0.1, kappa=0.6, tau= 0.2, epochs= 100)\n",
        "clf1.fit(X_train, y_train1)\n",
        "y_pred1 = clf1.predict(X_test)\n",
        "y_test1 = np.where(y_test == 1, 0, 1)\n",
        "\n",
        "clf2 = logistic_regression(lambda_= 0.01, kappa=0.6, tau= 0.2, epochs= 100)\n",
        "clf2.fit(X_train, y_train2)\n",
        "y_pred2 = clf2.predict(X_test)\n",
        "y_test2 = np.where(y_test == 2, 0, 1)"
      ],
      "metadata": {
        "id": "itxjojqoRbjp"
      },
      "execution_count": 566,
      "outputs": []
    },
    {
      "cell_type": "code",
      "source": [
        "y_pred = np.zeros(len(y_pred0))\n",
        "y_pred[y_pred0 == 0] = 0\n",
        "y_pred[y_pred0 == 1] = 1\n",
        "y_pred[y_pred2 == 0] = 2\n"
      ],
      "metadata": {
        "id": "6V61F9poRroY"
      },
      "execution_count": 567,
      "outputs": []
    },
    {
      "cell_type": "code",
      "source": [
        "cmt = confusion_matrix(y_test, y_pred)\n",
        "acc = np.trace(cmt)/np.sum(np.sum(cmt))\n",
        "print(\"Logistic Regression accuracy: \", acc)\n",
        "\n",
        "plt.figure()\n",
        "sns.heatmap(cmt, annot=True, fmt=\"d\")\n",
        "plt.title(\"Confusion Matrix\"); plt.xlabel(\"predicted\");\n",
        "plt.ylabel(\"actual\")\n",
        "plt.show()"
      ],
      "metadata": {
        "colab": {
          "base_uri": "https://localhost:8080/",
          "height": 489
        },
        "id": "cwGA9OGyRuUb",
        "outputId": "c3286766-4ac4-4281-e4fe-98477be91c93"
      },
      "execution_count": 568,
      "outputs": [
        {
          "output_type": "stream",
          "name": "stdout",
          "text": [
            "Logistic Regression accuracy:  0.9\n"
          ]
        },
        {
          "output_type": "display_data",
          "data": {
            "text/plain": [
              "<Figure size 640x480 with 2 Axes>"
            ],
            "image/png": "[encoded data removed]"
          },
          "metadata": {}
        }
      ]
    },
    {
      "cell_type": "code",
      "source": [],
      "metadata": {
        "id": "ya3LP3muB7mN"
      },
      "execution_count": null,
      "outputs": []
    }
  ]
}
