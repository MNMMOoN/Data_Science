{
  "nbformat": 4,
  "nbformat_minor": 0,
  "metadata": {
    "colab": {
      "provenance": []
    },
    "kernelspec": {
      "name": "python3",
      "display_name": "Python 3"
    },
    "language_info": {
      "name": "python"
    }
  },
  "cells": [
    {
      "cell_type": "markdown",
      "source": [
        "<div style=\"text-align: center;\">\n",
        "    <h1>Classification Problems: Naive Bayes</h1>\n",
        "    <h3>Mohammad Nourbakhsh Marvast</h3>\n",
        "</div>\n"
      ],
      "metadata": {
        "id": "FZXXqvhS8wJ-"
      }
    },
    {
      "cell_type": "code",
      "execution_count": 1,
      "metadata": {
        "id": "42G0xcBekTUL"
      },
      "outputs": [],
      "source": [
        "import numpy as np;\n",
        "import matplotlib.pyplot as plt;\n",
        "from sklearn.model_selection import train_test_split\n",
        "\n",
        "import seaborn as sns\n",
        "from sklearn.metrics import confusion_matrix"
      ]
    },
    {
      "cell_type": "markdown",
      "source": [
        "## Naive Bayes Class"
      ],
      "metadata": {
        "id": "kdHVg4GnKo8V"
      }
    },
    {
      "cell_type": "markdown",
      "source": [
        "Bayes' theorem states that for a given class $C$ and feature vector $\\mathbf{x} = (x_1,x_2,\\dots,x_n)$:\n",
        "$$\n",
        "P(C \\mid \\mathbf{x}) = \\frac{P(\\mathbf{x} \\mid C) P(C)}{P(\\mathbf{x})}.\n",
        "$$\n",
        "Since $P(\\mathbf{x})$ is constant across classes, we have\n",
        "$$\n",
        "P(C \\mid \\mathbf{x}) \\propto P(C) \\prod_{i=1}^n P(x_i \\mid C).\n",
        "$$\n",
        "Thus, the classifier assigns the class label by:\n",
        "$$\n",
        "\\hat{C} = \\arg\\max_{C} \\; P(C) \\prod_{i=1}^n P(x_i \\mid C).\n",
        "$$\n",
        "or equivalently\n",
        "$$\n",
        "\\hat{C} = \\arg\\max_{C} \\;  \\Big(\\log P(C) + \\sum_{i=1}^n \\log P(x_i \\mid C) \\Big).\n",
        "$$\n"
      ],
      "metadata": {
        "id": "PH5xvQWwEm8W"
      }
    },
    {
      "cell_type": "code",
      "source": [
        "def _gaussian_pdf(x, mean, var):\n",
        "  # Compute probability density of x for a Gaussian with given mean and var\n",
        "  # Avoid division by zero in variance by adding a tiny value (if needed)\n",
        "  eps = 1e-9\n",
        "  coeff = 1.0 / np.sqrt(2.0 * np.pi * (var + eps))\n",
        "  exponent = np.exp( - ((x - mean) ** 2) / (2 * (var + eps)) )\n",
        "  return coeff * exponent"
      ],
      "metadata": {
        "id": "wlVvyoYl8tzx"
      },
      "execution_count": 9,
      "outputs": []
    },
    {
      "cell_type": "code",
      "source": [
        "class naive_bayes:\n",
        "  def __init__(self, likelihood_func= _gaussian_pdf):\n",
        "    self.likelihood_func = likelihood_func\n",
        "    self.classes_ = None\n",
        "    self.priors_ = {}      # P(C)\n",
        "    self.means_ = {}       # mean for each feature per class\n",
        "    self.vars_ = {}        # variance for each feature per class\n",
        "\n",
        "  def fit (self, X_train, y_train):\n",
        "    self.classes_ = np.unique(y_train)\n",
        "    n_classes, n_features = X_train.shape\n",
        "    self.means_ = np.zeros((n_classes, n_features))\n",
        "    self.vars_ = np.zeros((n_classes, n_features))\n",
        "    self.priors_ = np.zeros(n_classes)\n",
        "\n",
        "    for c in self.classes_:\n",
        "      X_train_c = X_train[y_train==c]\n",
        "      self.priors_[c] = X_train_c.shape[0] / n_classes\n",
        "      self.means_[c] = X_train_c.mean(axis=0)\n",
        "      self.vars_[c] = X_train_c.var(axis=0)\n",
        "\n",
        "  def _predict(self, x):\n",
        "    posteriors = {}\n",
        "    for c in self.classes_:\n",
        "      mean = self.means_[c]\n",
        "      var = self.vars_[c]\n",
        "      log_prior = np.log(self.priors_[c])\n",
        "      log_likelihood = np.sum(np.log(self.likelihood_func(x, mean, var)))\n",
        "      posteriors[c]= log_prior + log_likelihood\n",
        "\n",
        "    return max(posteriors, key=posteriors.get)\n",
        "\n",
        "  def predict (self, X_test):\n",
        "    y_pred = [self._predict(x) for x in X_test]\n",
        "    return np.array(y_pred)"
      ],
      "metadata": {
        "id": "141Kwd1N12Fg"
      },
      "execution_count": 10,
      "outputs": []
    },
    {
      "cell_type": "markdown",
      "source": [
        "## Cancer Dataset"
      ],
      "metadata": {
        "id": "ALdCsxW8Ksjt"
      }
    },
    {
      "cell_type": "code",
      "source": [
        "from sklearn.datasets import load_breast_cancer"
      ],
      "metadata": {
        "id": "NEMVvK1MdP1H"
      },
      "execution_count": 11,
      "outputs": []
    },
    {
      "cell_type": "code",
      "source": [
        "# Load dataset\n",
        "data_frame = load_breast_cancer()\n",
        "data = data_frame.data\n",
        "target = data_frame.target"
      ],
      "metadata": {
        "id": "dP3_NfkSAeqa"
      },
      "execution_count": 13,
      "outputs": []
    },
    {
      "cell_type": "code",
      "source": [
        "X_train, X_test, y_train, y_test = train_test_split(data, target, test_size=0.2, random_state=42)\n",
        "\n",
        "# Standardize features\n",
        "from sklearn.preprocessing import StandardScaler\n",
        "scaler = StandardScaler()\n",
        "X_train = scaler.fit_transform(X_train)\n",
        "X_test = scaler.transform(X_test)"
      ],
      "metadata": {
        "id": "G6aRcaQGHFhn"
      },
      "execution_count": 14,
      "outputs": []
    },
    {
      "cell_type": "code",
      "source": [
        "clf = naive_bayes()\n",
        "clf.fit(X_train, y_train)\n",
        "y_pred = clf.predict(X_test)"
      ],
      "metadata": {
        "id": "NWe-9V-mHsm0"
      },
      "execution_count": 15,
      "outputs": []
    },
    {
      "cell_type": "code",
      "source": [
        "cmt = confusion_matrix(y_test, y_pred)\n",
        "acc = np.trace(cmt)/np.sum(np.sum(cmt))\n",
        "print(\"Naive Bayes accuracy: \", acc)\n"
      ],
      "metadata": {
        "colab": {
          "base_uri": "https://localhost:8080/"
        },
        "id": "HOZw6ovpVmby",
        "outputId": "beeece2d-88e1-4b22-e23a-bf8d1a231510"
      },
      "execution_count": 19,
      "outputs": [
        {
          "output_type": "stream",
          "name": "stdout",
          "text": [
            "Naive Bayes accuracy:  0.9649122807017544\n"
          ]
        }
      ]
    },
    {
      "cell_type": "code",
      "source": [
        "plt.figure()\n",
        "sns.heatmap(cmt, annot=True, fmt=\"d\")\n",
        "plt.title(\"Confusion Matrix\"); plt.xlabel(\"predicted\");\n",
        "plt.ylabel(\"actual\")\n",
        "plt.show()"
      ],
      "metadata": {
        "colab": {
          "base_uri": "https://localhost:8080/",
          "height": 472
        },
        "id": "JALuH_CTVvVV",
        "outputId": "e8df2461-1310-4fc1-b9ef-398e9631360a"
      },
      "execution_count": 18,
      "outputs": [
        {
          "output_type": "display_data",
          "data": {
            "text/plain": [
              "<Figure size 640x480 with 2 Axes>"
            ],
            "image/png": "[encoded data removed]"
          },
          "metadata": {}
        }
      ]
    },
    {
      "cell_type": "markdown",
      "source": [
        "## Wine Dataset"
      ],
      "metadata": {
        "id": "BjyBgTNRKyxJ"
      }
    },
    {
      "cell_type": "code",
      "source": [
        "from sklearn.datasets import load_wine"
      ],
      "metadata": {
        "id": "RAf9ylYufNjE"
      },
      "execution_count": 20,
      "outputs": []
    },
    {
      "cell_type": "code",
      "source": [
        "# Load dataset\n",
        "data_frame = load_wine()\n",
        "data = data_frame.data\n",
        "target = data_frame.target"
      ],
      "metadata": {
        "id": "S1JKBTmBK5VP"
      },
      "execution_count": 21,
      "outputs": []
    },
    {
      "cell_type": "code",
      "source": [
        "X_train, X_test, y_train, y_test = train_test_split(data, target, test_size=0.2, random_state=42)\n",
        "\n",
        "y_train0 = np.where(y_train == 0, 0, 1)\n",
        "y_train1 = np.where(y_train == 1, 0, 1)\n",
        "y_train2 = np.where(y_train == 2, 0, 1)\n",
        "\n",
        "# Standardize features\n",
        "from sklearn.preprocessing import StandardScaler\n",
        "scaler = StandardScaler()\n",
        "X_train = scaler.fit_transform(X_train)\n",
        "X_test = scaler.transform(X_test)"
      ],
      "metadata": {
        "id": "jMu06mToNOBk"
      },
      "execution_count": 22,
      "outputs": []
    },
    {
      "cell_type": "code",
      "source": [
        "clf = naive_bayes()\n",
        "clf.fit(X_train, y_train)\n",
        "y_pred = clf.predict(X_test)"
      ],
      "metadata": {
        "id": "J3XXWrY1NQl0"
      },
      "execution_count": 24,
      "outputs": []
    },
    {
      "cell_type": "code",
      "source": [
        "cmt = confusion_matrix(y_test, y_pred)\n",
        "acc = np.trace(cmt)/np.sum(np.sum(cmt))\n",
        "print(\"percepton accuracy: \", acc)"
      ],
      "metadata": {
        "colab": {
          "base_uri": "https://localhost:8080/"
        },
        "id": "tLBL0e3FPq7c",
        "outputId": "bc1bc3bd-fb56-439c-bdf2-e3aa36ff5290"
      },
      "execution_count": 25,
      "outputs": [
        {
          "output_type": "stream",
          "name": "stdout",
          "text": [
            "percepton accuracy:  1.0\n"
          ]
        }
      ]
    },
    {
      "cell_type": "code",
      "source": [
        "plt.figure()\n",
        "sns.heatmap(cmt, annot=True, fmt=\"d\")\n",
        "plt.title(\"Confusion Matrix\"); plt.xlabel(\"predicted\");\n",
        "plt.ylabel(\"actual\")\n",
        "plt.show()"
      ],
      "metadata": {
        "colab": {
          "base_uri": "https://localhost:8080/",
          "height": 472
        },
        "id": "JrvFZaoJQoQ1",
        "outputId": "49ec8127-3f9d-4a20-c958-dd16e7cd7ed2"
      },
      "execution_count": 26,
      "outputs": [
        {
          "output_type": "display_data",
          "data": {
            "text/plain": [
              "<Figure size 640x480 with 2 Axes>"
            ],
            "image/png": "[encoded data removed]"
          },
          "metadata": {}
        }
      ]
    },
    {
      "cell_type": "markdown",
      "source": [
        "## Iris Dataset"
      ],
      "metadata": {
        "id": "mT_veBvPRLR_"
      }
    },
    {
      "cell_type": "code",
      "source": [
        "from sklearn.datasets import load_iris"
      ],
      "metadata": {
        "id": "HOGVaDa7Qs4r"
      },
      "execution_count": 27,
      "outputs": []
    },
    {
      "cell_type": "code",
      "source": [
        "data_frame = load_iris()\n",
        "data = data_frame.data\n",
        "target = data_frame.target"
      ],
      "metadata": {
        "id": "yHlC6eO8RXks"
      },
      "execution_count": 28,
      "outputs": []
    },
    {
      "cell_type": "code",
      "source": [
        "X_train, X_test, y_train, y_test = train_test_split(data, target, test_size=0.2, random_state=42)\n",
        "\n",
        "# Standardize features\n",
        "from sklearn.preprocessing import StandardScaler\n",
        "scaler = StandardScaler()\n",
        "X_train = scaler.fit_transform(X_train)\n",
        "X_test = scaler.transform(X_test)"
      ],
      "metadata": {
        "id": "H-rbDRXNRaxZ"
      },
      "execution_count": 29,
      "outputs": []
    },
    {
      "cell_type": "code",
      "source": [
        "clf = naive_bayes()\n",
        "clf.fit(X_train, y_train)\n",
        "y_pred = clf.predict(X_test)"
      ],
      "metadata": {
        "id": "itxjojqoRbjp"
      },
      "execution_count": 31,
      "outputs": []
    },
    {
      "cell_type": "code",
      "source": [
        "cmt = confusion_matrix(y_test, y_pred)\n",
        "acc = np.trace(cmt)/np.sum(np.sum(cmt))\n",
        "print(\"percepton accuracy: \", acc)\n",
        "\n",
        "plt.figure()\n",
        "sns.heatmap(cmt, annot=True, fmt=\"d\")\n",
        "plt.title(\"Confusion Matrix\"); plt.xlabel(\"predicted\");\n",
        "plt.ylabel(\"actual\")\n",
        "plt.show()"
      ],
      "metadata": {
        "colab": {
          "base_uri": "https://localhost:8080/",
          "height": 489
        },
        "id": "cwGA9OGyRuUb",
        "outputId": "bf2eb429-d6ba-476e-a4aa-e414ce4a9409"
      },
      "execution_count": 32,
      "outputs": [
        {
          "output_type": "stream",
          "name": "stdout",
          "text": [
            "percepton accuracy:  1.0\n"
          ]
        },
        {
          "output_type": "display_data",
          "data": {
            "text/plain": [
              "<Figure size 640x480 with 2 Axes>"
            ],
            "image/png": "[encoded data removed]"
          },
          "metadata": {}
        }
      ]
    }
  ]
}