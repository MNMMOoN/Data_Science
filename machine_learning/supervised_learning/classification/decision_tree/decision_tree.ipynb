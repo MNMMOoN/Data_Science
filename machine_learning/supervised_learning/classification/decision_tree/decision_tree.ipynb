{
  "nbformat": 4,
  "nbformat_minor": 0,
  "metadata": {
    "colab": {
      "provenance": []
    },
    "kernelspec": {
      "name": "python3",
      "display_name": "Python 3"
    },
    "language_info": {
      "name": "python"
    }
  },
  "cells": [
    {
      "cell_type": "markdown",
      "source": [
        "<div style=\"text-align: center;\">\n",
        "    <h1>Classification Problems: Decision Tree</h1>\n",
        "    <h3>Mohammad Nourbakhsh Marvast</h3>\n",
        "</div>\n"
      ],
      "metadata": {
        "id": "FZXXqvhS8wJ-"
      }
    },
    {
      "cell_type": "code",
      "execution_count": 27,
      "metadata": {
        "id": "O3PLfuwtRz4z"
      },
      "outputs": [],
      "source": [
        "import numpy as np;\n",
        "import matplotlib.pyplot as plt;\n",
        "from sklearn.model_selection import train_test_split\n",
        "\n",
        "import seaborn as sns\n",
        "from sklearn.metrics import confusion_matrix"
      ]
    },
    {
      "cell_type": "markdown",
      "source": [
        "## Decision Tree Class\n"
      ],
      "metadata": {
        "id": "kdHVg4GnKo8V"
      }
    },
    {
      "cell_type": "code",
      "source": [
        "class TreeNode():\n",
        "  def __init__(self, uncertainty, num_samples, num_samples_class, class_label):\n",
        "    self.uncertainty = uncertainty\n",
        "    self.num_samples = num_samples\n",
        "    self.num_samples_class = num_samples_class\n",
        "    self.class_label = class_label\n",
        "    self.feature_idx = 0\n",
        "    self.treshold = 0\n",
        "    self.left = None\n",
        "    self.right = None\n"
      ],
      "metadata": {
        "id": "V_Av3RslwkUK"
      },
      "execution_count": 28,
      "outputs": []
    },
    {
      "cell_type": "code",
      "source": [
        "class decision_tree:\n",
        "  def __init__(self, max_depth= 5, uncertainty_func= lambda prob: -np.sum(prob * np.log2(prob + 1e-16))):\n",
        "    self.clusters = None\n",
        "    self.num_samples = None\n",
        "    self.num_features = None\n",
        "    self.uncertainty_func = uncertainty_func\n",
        "    self.max_depth = max_depth\n",
        "    self.tree = None\n",
        "\n",
        "\n",
        "  def feature_branch(self, feauture_x, y):\n",
        "\n",
        "    best_thr = 0\n",
        "    best_uncertainty = 2\n",
        "    previous_thr = 0\n",
        "\n",
        "    feauture_x, y = zip(*sorted(zip(feauture_x, y)))\n",
        "    feauture_x = np.array(feauture_x)\n",
        "    y = np.array(y)\n",
        "\n",
        "    for thr in np.unique(feauture_x):\n",
        "      y_left = y[feauture_x < thr]\n",
        "      y_right = y[feauture_x >= thr]\n",
        "\n",
        "      if len(y_left) == 0 or len(y_right) == 0:\n",
        "        continue\n",
        "\n",
        "      prob_l = len(y_left) / len(y)\n",
        "      prob_r = len(y_right) / len(y)\n",
        "\n",
        "      prob_left = np.unique(y_left, return_counts=True)[1] / len(y_left)\n",
        "      prob_right = np.unique(y_right, return_counts=True)[1] / len(y_right)\n",
        "\n",
        "\n",
        "      uncertainty_left = self.uncertainty_func(prob_left) / self.uncertainty_func(0.5*np.ones(len(prob_left)))\n",
        "      uncertainty_right = self.uncertainty_func(prob_right) / self.uncertainty_func(0.5*np.ones(len(prob_right)))\n",
        "      uncertainty_ =  prob_l * uncertainty_left + prob_r * uncertainty_right\n",
        "\n",
        "      if uncertainty_ < best_uncertainty:\n",
        "        best_uncertainty = uncertainty_\n",
        "        best_thr = (previous_thr + thr) / 2\n",
        "\n",
        "      previous_thr = thr\n",
        "\n",
        "    return best_thr, best_uncertainty # the branch best threshold\n",
        "\n",
        "  def best_node(self, X_train, y_train):\n",
        "    num_features = X_train.shape[1]\n",
        "    best_feature_idx = 0\n",
        "    best_feature_thr = 0\n",
        "    best_feature_uncertainty = 2\n",
        "\n",
        "    for idx in range(num_features):\n",
        "      feature_x = X_train[:, idx]\n",
        "      threshold, uncertainty= self.feature_branch(feature_x, y_train)\n",
        "\n",
        "      if uncertainty < best_feature_uncertainty:\n",
        "        best_feature_idx = idx\n",
        "        best_feature_uncertainty = uncertainty\n",
        "        best_feature_thr = threshold\n",
        "\n",
        "    return best_feature_idx, best_feature_thr, best_feature_uncertainty\n",
        "\n",
        "  def grow_tree(self, X_train, y_train, depth=0):\n",
        "\n",
        "    num_samples_per_class = np.array([np.sum(y_train == i) for i in self.clusters])\n",
        "    n = len(num_samples_per_class)\n",
        "    predicted_class = np.argmax(num_samples_per_class)\n",
        "\n",
        "    prob =  num_samples_per_class / len(y_train)\n",
        "    uncertainty = self.uncertainty_func(prob) / self.uncertainty_func(0.5*np.ones(n))\n",
        "\n",
        "\n",
        "    parent = TreeNode(uncertainty= uncertainty,\n",
        "                      num_samples= len(y_train),\n",
        "                      num_samples_class= n,\n",
        "                      class_label= predicted_class)\n",
        "\n",
        "    if depth < self.max_depth and uncertainty > 1e-3:\n",
        "      print(f'depth= {depth}, uncertainty= {uncertainty}')\n",
        "      feature_idx, feature_thr, feature_uncertainty = self.best_node(X_train, y_train)\n",
        "      feature = X_train[:, feature_idx]\n",
        "\n",
        "      left_idx = np.where(feature < feature_thr)[0]\n",
        "      right_idx = np.where(feature >= feature_thr)[0]\n",
        "\n",
        "      X_left= X_train[left_idx]\n",
        "      X_right = X_train[right_idx]\n",
        "      y_left = y_train[left_idx]\n",
        "      y_right = y_train[right_idx]\n",
        "\n",
        "      parent.feature_idx = feature_idx\n",
        "      parent.treshold = feature_thr\n",
        "\n",
        "      if len(y_left) > 0:\n",
        "        parent.left = self.grow_tree(X_left, y_left, depth + 1)\n",
        "      else:\n",
        "        parent.left = None\n",
        "\n",
        "      if len(y_right) > 0:\n",
        "        parent.right = self.grow_tree(X_right, y_right, depth + 1)\n",
        "      else:\n",
        "        parent.right = None\n",
        "\n",
        "    return parent\n",
        "\n",
        "  def fit(self, X_train, y_train):\n",
        "    self.num_samples, self.num_features = X_train.shape\n",
        "    self.clusters = np.unique(y_train)\n",
        "    self.tree = self.grow_tree(X_train, y_train)\n",
        "\n",
        "  def predict(self, X_test):\n",
        "    y_pred = [self.predict_one(x, self.tree) for x in X_test]\n",
        "    return np.array(y_pred)\n",
        "\n",
        "  def predict_one(self, x, tree):\n",
        "    if tree.left == None and tree.right == None:\n",
        "      return tree.class_label\n",
        "\n",
        "    if x[tree.feature_idx] < tree.treshold:\n",
        "      return self.predict_one(x, tree.left)\n",
        "    else:\n",
        "      return self.predict_one(x, tree.right)"
      ],
      "metadata": {
        "id": "jUChw5p2Sf-1"
      },
      "execution_count": 29,
      "outputs": []
    },
    {
      "cell_type": "markdown",
      "source": [
        "## Wine Dataset"
      ],
      "metadata": {
        "id": "BjyBgTNRKyxJ"
      }
    },
    {
      "cell_type": "code",
      "source": [
        "from sklearn.datasets import load_wine"
      ],
      "metadata": {
        "id": "RAf9ylYufNjE"
      },
      "execution_count": 30,
      "outputs": []
    },
    {
      "cell_type": "code",
      "source": [
        "# Load dataset\n",
        "data_frame = load_wine()\n",
        "data = data_frame.data\n",
        "target = data_frame.target"
      ],
      "metadata": {
        "id": "S1JKBTmBK5VP"
      },
      "execution_count": 31,
      "outputs": []
    },
    {
      "cell_type": "code",
      "source": [
        "X_train, X_test, y_train, y_test = train_test_split(data, target, test_size=0.2, random_state=42)\n",
        "\n",
        "# Standardize features\n",
        "from sklearn.preprocessing import StandardScaler\n",
        "scaler = StandardScaler()\n",
        "X_train = scaler.fit_transform(X_train)\n",
        "X_test = scaler.transform(X_test)"
      ],
      "metadata": {
        "id": "jMu06mToNOBk"
      },
      "execution_count": 32,
      "outputs": []
    },
    {
      "cell_type": "code",
      "source": [
        "clf = decision_tree(max_depth= 3)\n",
        "clf.fit(X_train, y_train)\n",
        "y_pred = clf.predict(X_test)"
      ],
      "metadata": {
        "colab": {
          "base_uri": "https://localhost:8080/"
        },
        "id": "wq6GwAu6t9aA",
        "outputId": "75989855-0459-4149-b077-f2e5d961b333"
      },
      "execution_count": 33,
      "outputs": [
        {
          "output_type": "stream",
          "name": "stdout",
          "text": [
            "depth= 0, uncertainty= 1.0459100799621819\n",
            "depth= 1, uncertainty= 0.9532335731777302\n",
            "depth= 2, uncertainty= 0.11244062099777999\n",
            "depth= 2, uncertainty= 0.570229406596666\n"
          ]
        }
      ]
    },
    {
      "cell_type": "code",
      "source": [
        "cmt = confusion_matrix(y_test, y_pred)\n",
        "acc = np.trace(cmt)/np.sum(np.sum(cmt))\n",
        "print(\"Decision tree accuracy: \", acc)"
      ],
      "metadata": {
        "colab": {
          "base_uri": "https://localhost:8080/"
        },
        "id": "tLBL0e3FPq7c",
        "outputId": "24666403-790a-4a52-8c8b-4aa686d1a3bb"
      },
      "execution_count": 34,
      "outputs": [
        {
          "output_type": "stream",
          "name": "stdout",
          "text": [
            "Decision tree accuracy:  0.9722222222222222\n"
          ]
        }
      ]
    },
    {
      "cell_type": "code",
      "source": [
        "plt.figure()\n",
        "sns.heatmap(cmt, annot=True, fmt=\"d\")\n",
        "plt.title(\"Confusion Matrix\"); plt.xlabel(\"predicted\");\n",
        "plt.ylabel(\"actual\")\n",
        "plt.show()"
      ],
      "metadata": {
        "colab": {
          "base_uri": "https://localhost:8080/",
          "height": 472
        },
        "id": "JrvFZaoJQoQ1",
        "outputId": "d0d5a80f-8655-4f20-8cb6-a973825ad53b"
      },
      "execution_count": 35,
      "outputs": [
        {
          "output_type": "display_data",
          "data": {
            "text/plain": [
              "<Figure size 640x480 with 2 Axes>"
            ],
            "image/png": "[encoded data removed]"
          },
          "metadata": {}
        }
      ]
    },
    {
      "cell_type": "markdown",
      "source": [
        "## Cancer Dataset"
      ],
      "metadata": {
        "id": "ALdCsxW8Ksjt"
      }
    },
    {
      "cell_type": "code",
      "source": [
        "from sklearn.datasets import load_breast_cancer"
      ],
      "metadata": {
        "id": "NEMVvK1MdP1H"
      },
      "execution_count": 36,
      "outputs": []
    },
    {
      "cell_type": "code",
      "source": [
        "# Load dataset\n",
        "data_frame = load_breast_cancer()\n",
        "data = data_frame.data\n",
        "target = data_frame.target"
      ],
      "metadata": {
        "id": "dP3_NfkSAeqa"
      },
      "execution_count": 37,
      "outputs": []
    },
    {
      "cell_type": "code",
      "source": [
        "X_train, X_test, y_train, y_test = train_test_split(data, target, test_size=0.2, random_state=42)\n",
        "\n",
        "# Standardize features\n",
        "from sklearn.preprocessing import StandardScaler\n",
        "scaler = StandardScaler()\n",
        "X_train = scaler.fit_transform(X_train)\n",
        "X_test = scaler.transform(X_test)"
      ],
      "metadata": {
        "id": "G6aRcaQGHFhn"
      },
      "execution_count": 38,
      "outputs": []
    },
    {
      "cell_type": "code",
      "source": [
        "clf = decision_tree (max_depth= 3)\n",
        "clf.fit(X_train, y_train)\n",
        "y_pred = clf.predict(X_test)"
      ],
      "metadata": {
        "id": "NWe-9V-mHsm0",
        "colab": {
          "base_uri": "https://localhost:8080/"
        },
        "outputId": "a916c683-795f-48e3-b155-fb5d759664cc"
      },
      "execution_count": 39,
      "outputs": [
        {
          "output_type": "stream",
          "name": "stdout",
          "text": [
            "depth= 0, uncertainty= 0.9517626756348311\n",
            "depth= 1, uncertainty= 0.3143558635927067\n",
            "depth= 2, uncertainty= 0.13585331486782926\n",
            "depth= 2, uncertainty= 0.9819407868640976\n",
            "depth= 1, uncertainty= 0.5165998933608693\n",
            "depth= 2, uncertainty= 0.9940302114769565\n"
          ]
        }
      ]
    },
    {
      "cell_type": "code",
      "source": [
        "cmt = confusion_matrix(y_test, y_pred)\n",
        "acc = np.trace(cmt)/np.sum(np.sum(cmt))\n",
        "print(\"Decision tree accuracy: \", acc)\n"
      ],
      "metadata": {
        "colab": {
          "base_uri": "https://localhost:8080/"
        },
        "id": "HOZw6ovpVmby",
        "outputId": "d1e75a52-c3ef-4280-983e-fcd2d81cddde"
      },
      "execution_count": 40,
      "outputs": [
        {
          "output_type": "stream",
          "name": "stdout",
          "text": [
            "Decision tree accuracy:  0.956140350877193\n"
          ]
        }
      ]
    },
    {
      "cell_type": "code",
      "source": [
        "plt.figure()\n",
        "sns.heatmap(cmt, annot=True, fmt=\"d\")\n",
        "plt.title(\"Confusion Matrix\"); plt.xlabel(\"predicted\");\n",
        "plt.ylabel(\"actual\")\n",
        "plt.show()"
      ],
      "metadata": {
        "colab": {
          "base_uri": "https://localhost:8080/",
          "height": 472
        },
        "id": "JALuH_CTVvVV",
        "outputId": "5b1dd4c3-bff6-427f-e8c9-5c232946282f"
      },
      "execution_count": 41,
      "outputs": [
        {
          "output_type": "display_data",
          "data": {
            "text/plain": [
              "<Figure size 640x480 with 2 Axes>"
            ],
            "image/png": "[encoded data removed]"
          },
          "metadata": {}
        }
      ]
    },
    {
      "cell_type": "markdown",
      "source": [
        "## Iris Dataset"
      ],
      "metadata": {
        "id": "mT_veBvPRLR_"
      }
    },
    {
      "cell_type": "code",
      "source": [
        "from sklearn.datasets import load_iris"
      ],
      "metadata": {
        "id": "HOGVaDa7Qs4r"
      },
      "execution_count": 42,
      "outputs": []
    },
    {
      "cell_type": "code",
      "source": [
        "data_frame = load_iris()\n",
        "data = data_frame.data\n",
        "target = data_frame.target"
      ],
      "metadata": {
        "id": "yHlC6eO8RXks"
      },
      "execution_count": 43,
      "outputs": []
    },
    {
      "cell_type": "code",
      "source": [
        "X_train, X_test, y_train, y_test = train_test_split(data, target, test_size=0.2, random_state=42)\n",
        "\n",
        "# Standardize features\n",
        "from sklearn.preprocessing import StandardScaler\n",
        "scaler = StandardScaler()\n",
        "X_train = scaler.fit_transform(X_train)\n",
        "X_test = scaler.transform(X_test)"
      ],
      "metadata": {
        "id": "H-rbDRXNRaxZ"
      },
      "execution_count": 44,
      "outputs": []
    },
    {
      "cell_type": "code",
      "source": [
        "clf = decision_tree(max_depth= 3)\n",
        "clf.fit(X_train, y_train)\n",
        "y_pred = clf.predict(X_test)"
      ],
      "metadata": {
        "id": "itxjojqoRbjp",
        "colab": {
          "base_uri": "https://localhost:8080/"
        },
        "outputId": "ccb83eb6-5fd8-4cea-e0b9-457c1824dcc3"
      },
      "execution_count": 45,
      "outputs": [
        {
          "output_type": "stream",
          "name": "stdout",
          "text": [
            "depth= 0, uncertainty= 1.056441271958659\n",
            "depth= 1, uncertainty= 0.7221196008945306\n",
            "depth= 2, uncertainty= 0.42894327114045333\n",
            "depth= 2, uncertainty= 0.1247841712488053\n"
          ]
        }
      ]
    },
    {
      "cell_type": "code",
      "source": [
        "cmt = confusion_matrix(y_test, y_pred)\n",
        "acc = np.trace(cmt)/np.sum(np.sum(cmt))\n",
        "print(\"Decision tree accuracy: \", acc)\n",
        "\n",
        "plt.figure()\n",
        "sns.heatmap(cmt, annot=True, fmt=\"d\")\n",
        "plt.title(\"Confusion Matrix\"); plt.xlabel(\"predicted\");\n",
        "plt.ylabel(\"actual\")\n",
        "plt.show()"
      ],
      "metadata": {
        "colab": {
          "base_uri": "https://localhost:8080/",
          "height": 489
        },
        "id": "cwGA9OGyRuUb",
        "outputId": "bce542b8-6284-4e17-b1c0-9c390fc06d97"
      },
      "execution_count": 46,
      "outputs": [
        {
          "output_type": "stream",
          "name": "stdout",
          "text": [
            "Decision tree accuracy:  1.0\n"
          ]
        },
        {
          "output_type": "display_data",
          "data": {
            "text/plain": [
              "<Figure size 640x480 with 2 Axes>"
            ],
            "image/png": "[encoded data removed]"
          },
          "metadata": {}
        }
      ]
    },
    {
      "cell_type": "code",
      "source": [],
      "metadata": {
        "id": "YVKse9dZwNJs"
      },
      "execution_count": 46,
      "outputs": []
    }
  ]
}
